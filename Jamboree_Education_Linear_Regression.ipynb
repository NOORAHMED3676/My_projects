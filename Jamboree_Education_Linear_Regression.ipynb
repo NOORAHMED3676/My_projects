{
  "metadata": {
    "kernelspec": {
      "language": "python",
      "display_name": "Python 3",
      "name": "python3"
    },
    "language_info": {
      "pygments_lexer": "ipython3",
      "nbconvert_exporter": "python",
      "version": "3.6.4",
      "file_extension": ".py",
      "codemirror_mode": {
        "name": "ipython",
        "version": 3
      },
      "name": "python",
      "mimetype": "text/x-python"
    },
    "colab": {
      "name": "Jamboree Education - Linear Regression",
      "provenance": [],
      "include_colab_link": true
    }
  },
  "nbformat_minor": 0,
  "nbformat": 4,
  "cells": [
    {
      "cell_type": "markdown",
      "metadata": {
        "id": "view-in-github",
        "colab_type": "text"
      },
      "source": [
        "<a href=\"https://colab.research.google.com/github/NOORAHMED3676/My_projects/blob/main/Jamboree_Education_Linear_Regression.ipynb\" target=\"_parent\"><img src=\"https://colab.research.google.com/assets/colab-badge.svg\" alt=\"Open In Colab\"/></a>"
      ]
    },
    {
      "cell_type": "markdown",
      "source": [
        "## Jamboree Education\n",
        "Jamboree has helped thousands of students like you make it to top colleges abroad. Be it GMAT, GRE or SAT, their unique problem-solving methods ensure maximum scores with minimum effort.\n",
        "They recently launched a feature where students/learners can come to their website and check their probability of getting into the IVY league college. This feature estimates the chances of graduate admission from an Indian perspective.\n",
        "\n",
        "**Column Profiling:**\n",
        "\n",
        "- Serial No. (Unique row ID)\n",
        "- GRE Scores (out of 340)\n",
        "- TOEFL Scores (out of 120)\n",
        "- University Rating (out of 5)\n",
        "- Statement of Purpose and Letter of Recommendation Strength (out of 5)\n",
        "- Undergraduate GPA (out of 10)\n",
        "- Research Experience (either 0 or 1)\n",
        "- Chance of Admit (ranging from 0 to 1)\n",
        "\n",
        "\n",
        "**Problem Statment:** Predict the chances of graduate admission based on the given features."
      ],
      "metadata": {
        "_uuid": "8f2839f25d086af736a60e9eeb907d3b93b6e0e5",
        "_cell_guid": "b1076dfc-b9ad-4769-8c92-a6c4dae69d19",
        "id": "4P7-mad1mU24"
      }
    },
    {
      "cell_type": "code",
      "source": [
        "import numpy as np\n",
        "import pandas as pd\n",
        "\n",
        "import os\n",
        "for dirname, _, filenames in os.walk('/kaggle/input'):\n",
        "    for filename in filenames:\n",
        "        print(os.path.join(dirname, filename))\n",
        "\n",
        "import matplotlib.pyplot as plt\n",
        "import seaborn as sns\n",
        "\n",
        "from sklearn.model_selection import train_test_split\n",
        "from sklearn.preprocessing import StandardScaler\n",
        "from sklearn.linear_model import LinearRegression, Ridge, Lasso\n",
        "from sklearn.metrics import r2_score\n",
        "\n",
        "from statsmodels.stats.outliers_influence import variance_inflation_factor\n",
        "from scipy import stats"
      ],
      "metadata": {
        "execution": {
          "iopub.status.busy": "2022-11-07T11:53:54.990772Z",
          "iopub.execute_input": "2022-11-07T11:53:54.991212Z",
          "iopub.status.idle": "2022-11-07T11:53:55.006904Z",
          "shell.execute_reply.started": "2022-11-07T11:53:54.991175Z",
          "shell.execute_reply": "2022-11-07T11:53:55.005599Z"
        },
        "trusted": true,
        "id": "A0gx72k4mU27"
      },
      "execution_count": null,
      "outputs": []
    },
    {
      "cell_type": "code",
      "source": [
        "path = \"/kaggle/input/education/Jamboree_Admission.csv\"\n",
        "\n",
        "df = pd.read_csv(path)\n",
        "df.head()"
      ],
      "metadata": {
        "execution": {
          "iopub.status.busy": "2022-11-07T10:18:54.669916Z",
          "iopub.execute_input": "2022-11-07T10:18:54.670312Z",
          "iopub.status.idle": "2022-11-07T10:18:54.714267Z",
          "shell.execute_reply.started": "2022-11-07T10:18:54.670276Z",
          "shell.execute_reply": "2022-11-07T10:18:54.713003Z"
        },
        "trusted": true,
        "id": "mqVMdIr6mU29"
      },
      "execution_count": null,
      "outputs": []
    },
    {
      "cell_type": "code",
      "source": [
        "df.info()"
      ],
      "metadata": {
        "execution": {
          "iopub.status.busy": "2022-11-07T10:18:54.789633Z",
          "iopub.execute_input": "2022-11-07T10:18:54.790066Z",
          "iopub.status.idle": "2022-11-07T10:18:54.817866Z",
          "shell.execute_reply.started": "2022-11-07T10:18:54.790028Z",
          "shell.execute_reply": "2022-11-07T10:18:54.817063Z"
        },
        "trusted": true,
        "id": "evP10M3nmU29"
      },
      "execution_count": null,
      "outputs": []
    },
    {
      "cell_type": "markdown",
      "source": [
        "There are no missing values present in the dataset."
      ],
      "metadata": {
        "id": "Wcw9BsM3mU2-"
      }
    },
    {
      "cell_type": "code",
      "source": [
        "cat_cols = ['University Rating', 'SOP', 'LOR ', 'Research']\n",
        "num_cols = ['GRE Score', 'TOEFL Score', 'CGPA']\n",
        "target = 'Chance of Admit '"
      ],
      "metadata": {
        "execution": {
          "iopub.status.busy": "2022-11-07T10:18:55.742769Z",
          "iopub.execute_input": "2022-11-07T10:18:55.74348Z",
          "iopub.status.idle": "2022-11-07T10:18:55.748453Z",
          "shell.execute_reply.started": "2022-11-07T10:18:55.743445Z",
          "shell.execute_reply": "2022-11-07T10:18:55.747064Z"
        },
        "trusted": true,
        "id": "xLDNhkAJmU2-"
      },
      "execution_count": null,
      "outputs": []
    },
    {
      "cell_type": "code",
      "source": [
        "df.describe()"
      ],
      "metadata": {
        "execution": {
          "iopub.status.busy": "2022-11-07T10:18:56.103493Z",
          "iopub.execute_input": "2022-11-07T10:18:56.103922Z",
          "iopub.status.idle": "2022-11-07T10:18:56.145716Z",
          "shell.execute_reply.started": "2022-11-07T10:18:56.103884Z",
          "shell.execute_reply": "2022-11-07T10:18:56.144518Z"
        },
        "trusted": true,
        "id": "nuF_epnomU2-"
      },
      "execution_count": null,
      "outputs": []
    },
    {
      "cell_type": "code",
      "source": [
        "# check for missing values\n",
        "df.isnull().sum()"
      ],
      "metadata": {
        "execution": {
          "iopub.status.busy": "2022-11-07T10:18:56.525602Z",
          "iopub.execute_input": "2022-11-07T10:18:56.525984Z",
          "iopub.status.idle": "2022-11-07T10:18:56.536021Z",
          "shell.execute_reply.started": "2022-11-07T10:18:56.525954Z",
          "shell.execute_reply": "2022-11-07T10:18:56.534699Z"
        },
        "trusted": true,
        "id": "dwLeHTEsmU2_"
      },
      "execution_count": null,
      "outputs": []
    },
    {
      "cell_type": "markdown",
      "source": [
        "## Univariate Analysis"
      ],
      "metadata": {
        "id": "T8XFdQVCmU2_"
      }
    },
    {
      "cell_type": "code",
      "source": [
        "# check distribution of each numerical variable\n",
        "rows, cols = 2, 2\n",
        "fig, axs = plt.subplots(rows,cols, figsize=(12, 8))\n",
        "index = 0\n",
        "for row in range(rows):\n",
        "    for col in range(cols):\n",
        "        sns.histplot(df[num_cols[index]], kde=True, ax=axs[row,col])\n",
        "        index += 1\n",
        "    break\n",
        "\n",
        "sns.histplot(df[num_cols[-1]], kde=True, ax=axs[1,0])\n",
        "sns.histplot(df[target], kde=True, ax=axs[1,1])\n",
        "plt.show()"
      ],
      "metadata": {
        "execution": {
          "iopub.status.busy": "2022-11-07T10:18:57.183225Z",
          "iopub.execute_input": "2022-11-07T10:18:57.183624Z",
          "iopub.status.idle": "2022-11-07T10:18:57.937306Z",
          "shell.execute_reply.started": "2022-11-07T10:18:57.183592Z",
          "shell.execute_reply": "2022-11-07T10:18:57.936193Z"
        },
        "trusted": true,
        "id": "mFP__j6ymU3A"
      },
      "execution_count": null,
      "outputs": []
    },
    {
      "cell_type": "code",
      "source": [
        "# check for outliers using boxplots\n",
        "rows, cols = 2, 2\n",
        "fig, axs = plt.subplots(rows, cols, figsize=(12, 7))\n",
        "\n",
        "index = 0\n",
        "for col in range(cols):\n",
        "    sns.boxplot(x=num_cols[index], data=df, ax=axs[0,index])\n",
        "    index += 1\n",
        "\n",
        "sns.boxplot(x=num_cols[-1], data=df, ax=axs[1,0])\n",
        "sns.boxplot(x=target, data=df, ax=axs[1,1])\n",
        "plt.show()"
      ],
      "metadata": {
        "execution": {
          "iopub.status.busy": "2022-11-07T10:18:57.939192Z",
          "iopub.execute_input": "2022-11-07T10:18:57.939523Z",
          "iopub.status.idle": "2022-11-07T10:18:58.364356Z",
          "shell.execute_reply.started": "2022-11-07T10:18:57.939493Z",
          "shell.execute_reply": "2022-11-07T10:18:58.363114Z"
        },
        "trusted": true,
        "id": "XB3tUirxmU3A"
      },
      "execution_count": null,
      "outputs": []
    },
    {
      "cell_type": "markdown",
      "source": [
        "There are no outliers present in the dataset."
      ],
      "metadata": {
        "id": "L7_wGAgSmU3A"
      }
    },
    {
      "cell_type": "code",
      "source": [
        "# check unique values in categorical variables\n",
        "for col in cat_cols:\n",
        "    print(\"Column:  {:18}   Unique values: {}\".format(col, df[col].nunique()))"
      ],
      "metadata": {
        "execution": {
          "iopub.status.busy": "2022-11-07T10:18:58.366614Z",
          "iopub.execute_input": "2022-11-07T10:18:58.367321Z",
          "iopub.status.idle": "2022-11-07T10:18:58.375352Z",
          "shell.execute_reply.started": "2022-11-07T10:18:58.367286Z",
          "shell.execute_reply": "2022-11-07T10:18:58.374083Z"
        },
        "trusted": true,
        "id": "7FGYet5_mU3A"
      },
      "execution_count": null,
      "outputs": []
    },
    {
      "cell_type": "code",
      "source": [
        "# countplots for categorical variables\n",
        "cols, rows = 2, 2\n",
        "fig, axs = plt.subplots(rows, cols, figsize=(10, 7))\n",
        "\n",
        "index = 0\n",
        "for row in range(rows):\n",
        "    for col in range(cols):\n",
        "        sns.countplot(x=cat_cols[index], data=df, ax=axs[row, col], alpha=0.8)\n",
        "        index += 1\n",
        "\n",
        "plt.show()"
      ],
      "metadata": {
        "execution": {
          "iopub.status.busy": "2022-11-07T10:18:58.573559Z",
          "iopub.execute_input": "2022-11-07T10:18:58.57395Z",
          "iopub.status.idle": "2022-11-07T10:18:59.117906Z",
          "shell.execute_reply.started": "2022-11-07T10:18:58.573918Z",
          "shell.execute_reply": "2022-11-07T10:18:59.116713Z"
        },
        "trusted": true,
        "id": "bA4JAIsymU3B"
      },
      "execution_count": null,
      "outputs": []
    },
    {
      "cell_type": "markdown",
      "source": [
        "## Bivariate Analysis"
      ],
      "metadata": {
        "id": "gkemqbe1mU3B"
      }
    },
    {
      "cell_type": "code",
      "source": [
        "# check relation bw continuous variables & target variable\n",
        "fig, axs = plt.subplots(1, 2, figsize=(12,5))\n",
        "\n",
        "sns.scatterplot(x=num_cols[0], y=target, data=df, ax=axs[0])\n",
        "sns.scatterplot(x=num_cols[1], y=target, data=df, ax=axs[1])\n",
        "plt.show()\n",
        "sns.scatterplot(x=num_cols[2], y=target, data=df)\n",
        "plt.show()"
      ],
      "metadata": {
        "execution": {
          "iopub.status.busy": "2022-11-07T10:18:59.423439Z",
          "iopub.execute_input": "2022-11-07T10:18:59.423857Z",
          "iopub.status.idle": "2022-11-07T10:18:59.99755Z",
          "shell.execute_reply.started": "2022-11-07T10:18:59.423822Z",
          "shell.execute_reply": "2022-11-07T10:18:59.996379Z"
        },
        "trusted": true,
        "id": "sU3Vd7xpmU3B"
      },
      "execution_count": null,
      "outputs": []
    },
    {
      "cell_type": "markdown",
      "source": [
        "Seems like there is a linear correlation between the continuous variables and the target variable."
      ],
      "metadata": {
        "id": "BVV9RJGpmU3B"
      }
    },
    {
      "cell_type": "code",
      "source": [
        "rows, cols = 2,2\n",
        "fig, axs = plt.subplots(rows, cols, figsize=(16,10))\n",
        "\n",
        "index = 0\n",
        "for row in range(rows):\n",
        "    for col in range(cols):\n",
        "        sns.boxplot(x=cat_cols[index], y=target, data=df, ax=axs[row,col])\n",
        "        index += 1"
      ],
      "metadata": {
        "execution": {
          "iopub.status.busy": "2022-11-07T10:19:00.27334Z",
          "iopub.execute_input": "2022-11-07T10:19:00.273733Z",
          "iopub.status.idle": "2022-11-07T10:19:01.281556Z",
          "shell.execute_reply.started": "2022-11-07T10:19:00.273702Z",
          "shell.execute_reply": "2022-11-07T10:19:01.280694Z"
        },
        "trusted": true,
        "id": "CfGQLUEEmU3B"
      },
      "execution_count": null,
      "outputs": []
    },
    {
      "cell_type": "markdown",
      "source": [
        "- As you can see from the graphs, as tge rating increases the `Chance of Admit` also increases.\n",
        "- Students who have the research experience have more chances of Admin as compared to other students who don't have the research experience."
      ],
      "metadata": {
        "id": "9WTe3XMomU3C"
      }
    },
    {
      "cell_type": "markdown",
      "source": [
        "## Multivariate Analysis"
      ],
      "metadata": {
        "id": "iSExeGzfmU3C"
      }
    },
    {
      "cell_type": "code",
      "source": [
        "sns.pairplot(df[num_cols])\n",
        "plt.show()"
      ],
      "metadata": {
        "execution": {
          "iopub.status.busy": "2022-11-07T10:19:02.23379Z",
          "iopub.execute_input": "2022-11-07T10:19:02.234209Z",
          "iopub.status.idle": "2022-11-07T10:19:04.032243Z",
          "shell.execute_reply.started": "2022-11-07T10:19:02.234164Z",
          "shell.execute_reply": "2022-11-07T10:19:04.03101Z"
        },
        "trusted": true,
        "id": "4AJ1_oj-mU3C"
      },
      "execution_count": null,
      "outputs": []
    },
    {
      "cell_type": "markdown",
      "source": [
        "Independent continuous variables are also correlated with each other."
      ],
      "metadata": {
        "id": "iRB80w_DmU3C"
      }
    },
    {
      "cell_type": "code",
      "source": [
        "df.corr()"
      ],
      "metadata": {
        "execution": {
          "iopub.status.busy": "2022-11-07T10:19:04.034403Z",
          "iopub.execute_input": "2022-11-07T10:19:04.034759Z",
          "iopub.status.idle": "2022-11-07T10:19:04.054115Z",
          "shell.execute_reply.started": "2022-11-07T10:19:04.034727Z",
          "shell.execute_reply": "2022-11-07T10:19:04.053214Z"
        },
        "trusted": true,
        "id": "9ib-T7R9mU3C"
      },
      "execution_count": null,
      "outputs": []
    },
    {
      "cell_type": "code",
      "source": [
        "plt.figure(figsize=(10,8))\n",
        "sns.heatmap(df.corr(), annot=True)\n",
        "plt.show()"
      ],
      "metadata": {
        "execution": {
          "iopub.status.busy": "2022-11-07T10:19:04.503654Z",
          "iopub.execute_input": "2022-11-07T10:19:04.504054Z",
          "iopub.status.idle": "2022-11-07T10:19:05.134633Z",
          "shell.execute_reply.started": "2022-11-07T10:19:04.50402Z",
          "shell.execute_reply": "2022-11-07T10:19:05.13325Z"
        },
        "trusted": true,
        "id": "Xv_YI9Y6mU3C"
      },
      "execution_count": null,
      "outputs": []
    },
    {
      "cell_type": "markdown",
      "source": [
        "## Data Preprocessing"
      ],
      "metadata": {
        "id": "gw4fKzyDmU3C"
      }
    },
    {
      "cell_type": "code",
      "source": [
        "# drop Serial NO. column\n",
        "df = df.drop(columns=['Serial No.'], axis=1)"
      ],
      "metadata": {
        "execution": {
          "iopub.status.busy": "2022-11-07T10:19:06.593709Z",
          "iopub.execute_input": "2022-11-07T10:19:06.594175Z",
          "iopub.status.idle": "2022-11-07T10:19:06.601395Z",
          "shell.execute_reply.started": "2022-11-07T10:19:06.594122Z",
          "shell.execute_reply": "2022-11-07T10:19:06.600072Z"
        },
        "trusted": true,
        "id": "R_M06IGPmU3D"
      },
      "execution_count": null,
      "outputs": []
    },
    {
      "cell_type": "code",
      "source": [
        "# check for duplicates\n",
        "df.duplicated().sum()"
      ],
      "metadata": {
        "execution": {
          "iopub.status.busy": "2022-11-07T10:19:07.203428Z",
          "iopub.execute_input": "2022-11-07T10:19:07.204411Z",
          "iopub.status.idle": "2022-11-07T10:19:07.214388Z",
          "shell.execute_reply.started": "2022-11-07T10:19:07.204368Z",
          "shell.execute_reply": "2022-11-07T10:19:07.213205Z"
        },
        "trusted": true,
        "id": "2jG4yBVcmU3D"
      },
      "execution_count": null,
      "outputs": []
    },
    {
      "cell_type": "markdown",
      "source": [
        "- There are no missing values, outliers and duplicates present in the dataset."
      ],
      "metadata": {
        "id": "BxDxgl7HmU3D"
      }
    },
    {
      "cell_type": "markdown",
      "source": [
        "#### Data preparation for  model building"
      ],
      "metadata": {
        "id": "nXtAAuDMmU3D"
      }
    },
    {
      "cell_type": "code",
      "source": [
        "X = df.drop(columns=[target])\n",
        "y = df[target]"
      ],
      "metadata": {
        "execution": {
          "iopub.status.busy": "2022-11-07T11:47:42.480917Z",
          "iopub.execute_input": "2022-11-07T11:47:42.481355Z",
          "iopub.status.idle": "2022-11-07T11:47:42.488172Z",
          "shell.execute_reply.started": "2022-11-07T11:47:42.481317Z",
          "shell.execute_reply": "2022-11-07T11:47:42.486749Z"
        },
        "trusted": true,
        "id": "irlIPuFfmU3D"
      },
      "execution_count": null,
      "outputs": []
    },
    {
      "cell_type": "code",
      "source": [
        "# standardize the dataset\n",
        "sc = StandardScaler()\n",
        "X = sc.fit_transform(X)"
      ],
      "metadata": {
        "execution": {
          "iopub.status.busy": "2022-11-07T11:47:42.540382Z",
          "iopub.execute_input": "2022-11-07T11:47:42.540805Z",
          "iopub.status.idle": "2022-11-07T11:47:42.551577Z",
          "shell.execute_reply.started": "2022-11-07T11:47:42.54077Z",
          "shell.execute_reply": "2022-11-07T11:47:42.550278Z"
        },
        "trusted": true,
        "id": "3naIAe5smU3D"
      },
      "execution_count": null,
      "outputs": []
    },
    {
      "cell_type": "code",
      "source": [
        "X_train, X_test, y_train, y_test = train_test_split(X, y, test_size=0.3, random_state=1)"
      ],
      "metadata": {
        "execution": {
          "iopub.status.busy": "2022-11-07T11:47:42.996276Z",
          "iopub.execute_input": "2022-11-07T11:47:42.997001Z",
          "iopub.status.idle": "2022-11-07T11:47:43.005184Z",
          "shell.execute_reply.started": "2022-11-07T11:47:42.996949Z",
          "shell.execute_reply": "2022-11-07T11:47:43.003742Z"
        },
        "trusted": true,
        "id": "ZALIMh1BmU3E"
      },
      "execution_count": null,
      "outputs": []
    },
    {
      "cell_type": "code",
      "source": [
        "print(X_train.shape, y_train.shape)\n",
        "print(X_test.shape, y_test.shape)"
      ],
      "metadata": {
        "execution": {
          "iopub.status.busy": "2022-11-07T11:47:43.435318Z",
          "iopub.execute_input": "2022-11-07T11:47:43.435722Z",
          "iopub.status.idle": "2022-11-07T11:47:43.442967Z",
          "shell.execute_reply.started": "2022-11-07T11:47:43.435686Z",
          "shell.execute_reply": "2022-11-07T11:47:43.441452Z"
        },
        "trusted": true,
        "id": "Jojn9wgQmU3E"
      },
      "execution_count": null,
      "outputs": []
    },
    {
      "cell_type": "markdown",
      "source": [
        "## Model Building"
      ],
      "metadata": {
        "id": "L54zEGcUmU3E"
      }
    },
    {
      "cell_type": "code",
      "source": [
        "def adjusted_r2(r2, p, n):\n",
        "    \"\"\"\n",
        "    n: no of samples\n",
        "    p: no of predictors\n",
        "    r2: r2 score\n",
        "    \"\"\"\n",
        "    adj_r2 = 1 - ((1-r2)*(n-1) / (n-p-1))\n",
        "    return adj_r2\n",
        "\n",
        "def get_metrics(y_true, y_pred, p=None):\n",
        "    n = y_true.shape[0]\n",
        "    mse = np.sum((y_true - y_pred)**2) / n\n",
        "    rmse = np.sqrt(mse)\n",
        "    mae = np.mean(np.abs(y_true - y_pred))\n",
        "    score = r2_score(y_true, y_pred)\n",
        "    adj_r2 = None\n",
        "    if p is not None:\n",
        "        adj_r2 = adjusted_r2(score, p, n)\n",
        "\n",
        "    res = {\n",
        "        \"mean_absolute_error\": round(mae, 2),\n",
        "        \"rmse\": round(rmse, 2),\n",
        "        \"r2_score\": round(score, 2),\n",
        "        \"adj_r2\": round(adj_r2, 2)\n",
        "    }\n",
        "    return res"
      ],
      "metadata": {
        "execution": {
          "iopub.status.busy": "2022-11-07T10:42:49.585566Z",
          "iopub.execute_input": "2022-11-07T10:42:49.58596Z",
          "iopub.status.idle": "2022-11-07T10:42:49.594489Z",
          "shell.execute_reply.started": "2022-11-07T10:42:49.585928Z",
          "shell.execute_reply": "2022-11-07T10:42:49.593587Z"
        },
        "trusted": true,
        "id": "k_tH5oU_mU3E"
      },
      "execution_count": null,
      "outputs": []
    },
    {
      "cell_type": "code",
      "source": [
        "def train_model(X_train, y_train, X_test, y_test,cols, model_name=\"linear\", alpha=1.0):\n",
        "    model = None\n",
        "    if model_name == \"lasso\":\n",
        "        model = Lasso(alpha=alpha)\n",
        "    elif model_name == \"ridge\":\n",
        "        model = Ridge(alpha=alpha)\n",
        "    else:\n",
        "        model = LinearRegression()\n",
        "\n",
        "    model.fit(X_train, y_train)\n",
        "    y_pred_train = model.predict(X_train)\n",
        "    y_pred_test = model.predict(X_test)\n",
        "    p = X_train.shape[1]\n",
        "    train_res = get_metrics(y_train, y_pred_train, p)\n",
        "    test_res = get_metrics(y_test, y_pred_test, p)\n",
        "\n",
        "    print(f\"\\n----   {model_name.title()} Regression Model  ----\\n\")\n",
        "    print(f\"Train MAE: {train_res['mean_absolute_error']} Test MAE: {test_res['mean_absolute_error']}\")\n",
        "    print(f\"Train RMSE: {train_res['rmse']} Test RMSE: {test_res['rmse']}\")\n",
        "    print(f\"Train R2_score: {train_res['r2_score']} Test R2_score: {test_res['r2_score']}\")\n",
        "    print(f\"Train Adjusted_R2: {train_res['adj_r2']} Test Adjusted_R2: {test_res['adj_r2']}\")\n",
        "    print(f\"Intercept: {model.intercept_}\")\n",
        "    #print(len(df.columns), len(model.coef_))\n",
        "    coef_df = pd.DataFrame({\"Column\": cols, \"Coef\": model.coef_})\n",
        "    print(coef_df)\n",
        "    print(\"-\"*50)\n",
        "    return model"
      ],
      "metadata": {
        "execution": {
          "iopub.status.busy": "2022-11-07T11:46:28.916467Z",
          "iopub.execute_input": "2022-11-07T11:46:28.91699Z",
          "iopub.status.idle": "2022-11-07T11:46:28.932488Z",
          "shell.execute_reply.started": "2022-11-07T11:46:28.916945Z",
          "shell.execute_reply": "2022-11-07T11:46:28.931274Z"
        },
        "trusted": true,
        "id": "tGhYwqVCmU3F"
      },
      "execution_count": null,
      "outputs": []
    },
    {
      "cell_type": "code",
      "source": [
        "train_model(X_train, y_train, X_test, y_test,df.columns[:-1], \"linear\")\n",
        "train_model(X_train, y_train, X_test, y_test,df.columns[:-1], \"ridge\")\n",
        "train_model(X_train, y_train, X_test, y_test,df.columns[:-1], \"lasso\", 0.001)"
      ],
      "metadata": {
        "execution": {
          "iopub.status.busy": "2022-11-07T11:47:56.606959Z",
          "iopub.execute_input": "2022-11-07T11:47:56.607878Z",
          "iopub.status.idle": "2022-11-07T11:47:56.647024Z",
          "shell.execute_reply.started": "2022-11-07T11:47:56.607817Z",
          "shell.execute_reply": "2022-11-07T11:47:56.645558Z"
        },
        "trusted": true,
        "id": "fb6aIWjbmU3F"
      },
      "execution_count": null,
      "outputs": []
    },
    {
      "cell_type": "markdown",
      "source": [
        "- Since model is not overfitting, Results for Linear, Ridge and Lasso are the same.\n",
        "- R2_score and Adjusted_r2 are almost the same. Hence there are no unnecessary independent variables in the data."
      ],
      "metadata": {
        "id": "5DJiYUrwmU3F"
      }
    },
    {
      "cell_type": "markdown",
      "source": [
        "## Linear Regression Model - Assumption Test"
      ],
      "metadata": {
        "id": "knOsS-OUmU3F"
      }
    },
    {
      "cell_type": "markdown",
      "source": [
        "#### Mutlicollinearity Check"
      ],
      "metadata": {
        "id": "Bu1hfPFymU3K"
      }
    },
    {
      "cell_type": "code",
      "source": [
        "def vif(newdf):\n",
        "    # VIF dataframe\n",
        "    vif_data = pd.DataFrame()\n",
        "    vif_data[\"feature\"] = newdf.columns\n",
        "\n",
        "    # calculating VIF for each feature\n",
        "    vif_data[\"VIF\"] = [variance_inflation_factor(newdf.values, i)\n",
        "                              for i in range(len(newdf.columns))]\n",
        "    return vif_data"
      ],
      "metadata": {
        "execution": {
          "iopub.status.busy": "2022-11-07T11:28:27.136349Z",
          "iopub.execute_input": "2022-11-07T11:28:27.137816Z",
          "iopub.status.idle": "2022-11-07T11:28:27.145341Z",
          "shell.execute_reply.started": "2022-11-07T11:28:27.137764Z",
          "shell.execute_reply": "2022-11-07T11:28:27.144063Z"
        },
        "trusted": true,
        "id": "AanJgCZEmU3K"
      },
      "execution_count": null,
      "outputs": []
    },
    {
      "cell_type": "code",
      "source": [
        "res = vif(df.iloc[:,:-1])\n",
        "res"
      ],
      "metadata": {
        "execution": {
          "iopub.status.busy": "2022-11-07T11:28:56.906276Z",
          "iopub.execute_input": "2022-11-07T11:28:56.906666Z",
          "iopub.status.idle": "2022-11-07T11:28:56.929795Z",
          "shell.execute_reply.started": "2022-11-07T11:28:56.906634Z",
          "shell.execute_reply": "2022-11-07T11:28:56.928666Z"
        },
        "trusted": true,
        "id": "X48aYawemU3L"
      },
      "execution_count": null,
      "outputs": []
    },
    {
      "cell_type": "code",
      "source": [
        "# drop GRE Score and again calculate the VIF\n",
        "res = vif(df.iloc[:, 1:-1])\n",
        "res"
      ],
      "metadata": {
        "execution": {
          "iopub.status.busy": "2022-11-07T11:30:25.36604Z",
          "iopub.execute_input": "2022-11-07T11:30:25.366444Z",
          "iopub.status.idle": "2022-11-07T11:30:25.388163Z",
          "shell.execute_reply.started": "2022-11-07T11:30:25.366413Z",
          "shell.execute_reply": "2022-11-07T11:30:25.387012Z"
        },
        "trusted": true,
        "id": "mKtq1eM7mU3L"
      },
      "execution_count": null,
      "outputs": []
    },
    {
      "cell_type": "code",
      "source": [
        "# # drop TOEFL Score and again calculate the VIF\n",
        "res = vif(df.iloc[:,2:-1])\n",
        "res"
      ],
      "metadata": {
        "execution": {
          "iopub.status.busy": "2022-11-07T11:31:58.661103Z",
          "iopub.execute_input": "2022-11-07T11:31:58.661648Z",
          "iopub.status.idle": "2022-11-07T11:31:58.686201Z",
          "shell.execute_reply.started": "2022-11-07T11:31:58.6616Z",
          "shell.execute_reply": "2022-11-07T11:31:58.684974Z"
        },
        "trusted": true,
        "id": "VrLLS-w8mU3L"
      },
      "execution_count": null,
      "outputs": []
    },
    {
      "cell_type": "code",
      "source": [
        "# Now lets drop the SOP and again calculate VIF\n",
        "res = vif(df.iloc[:,2:-1].drop(columns=['SOP']))\n",
        "res"
      ],
      "metadata": {
        "execution": {
          "iopub.status.busy": "2022-11-07T11:36:53.186026Z",
          "iopub.execute_input": "2022-11-07T11:36:53.186419Z",
          "iopub.status.idle": "2022-11-07T11:36:53.204189Z",
          "shell.execute_reply.started": "2022-11-07T11:36:53.186389Z",
          "shell.execute_reply": "2022-11-07T11:36:53.203195Z"
        },
        "trusted": true,
        "id": "ucWEi4bCmU3L"
      },
      "execution_count": null,
      "outputs": []
    },
    {
      "cell_type": "code",
      "source": [
        "# lets drop the LOR as well\n",
        "newdf = df.iloc[:,2:-1].drop(columns=['SOP'])\n",
        "newdf = newdf.drop(columns=['LOR '], axis=1)\n",
        "res = vif(newdf)\n",
        "res"
      ],
      "metadata": {
        "execution": {
          "iopub.status.busy": "2022-11-07T11:38:58.87593Z",
          "iopub.execute_input": "2022-11-07T11:38:58.876366Z",
          "iopub.status.idle": "2022-11-07T11:38:58.895339Z",
          "shell.execute_reply.started": "2022-11-07T11:38:58.876327Z",
          "shell.execute_reply": "2022-11-07T11:38:58.894036Z"
        },
        "trusted": true,
        "id": "0eJx0WG_mU3L"
      },
      "execution_count": null,
      "outputs": []
    },
    {
      "cell_type": "code",
      "source": [
        "# drop the University Rating\n",
        "newdf = newdf.drop(columns=['University Rating'])\n",
        "res = vif(newdf)\n",
        "res"
      ],
      "metadata": {
        "execution": {
          "iopub.status.busy": "2022-11-07T11:40:12.355672Z",
          "iopub.execute_input": "2022-11-07T11:40:12.356069Z",
          "iopub.status.idle": "2022-11-07T11:40:12.373733Z",
          "shell.execute_reply.started": "2022-11-07T11:40:12.356037Z",
          "shell.execute_reply": "2022-11-07T11:40:12.372798Z"
        },
        "trusted": true,
        "id": "5h16SWzMmU3L"
      },
      "execution_count": null,
      "outputs": []
    },
    {
      "cell_type": "code",
      "source": [
        "# now again train the model with these only two features\n",
        "X = df[['CGPA', 'Research']]\n",
        "sc = StandardScaler()\n",
        "X = sc.fit_transform(X)\n",
        "\n",
        "X_train, X_test, y_train, y_test = train_test_split(X, y, test_size=0.3, random_state=1)"
      ],
      "metadata": {
        "execution": {
          "iopub.status.busy": "2022-11-07T11:48:10.772179Z",
          "iopub.execute_input": "2022-11-07T11:48:10.772717Z",
          "iopub.status.idle": "2022-11-07T11:48:10.789195Z",
          "shell.execute_reply.started": "2022-11-07T11:48:10.772671Z",
          "shell.execute_reply": "2022-11-07T11:48:10.787764Z"
        },
        "trusted": true,
        "id": "4vVCxI5xmU3M"
      },
      "execution_count": null,
      "outputs": []
    },
    {
      "cell_type": "code",
      "source": [
        "model = train_model(X_train, y_train, X_test, y_test, ['CGPA', 'Research'], \"linear\")\n",
        "train_model(X_train, y_train, X_test, y_test, ['CGPA', 'Research'], \"ridge\")\n",
        "train_model(X_train, y_train, X_test, y_test, ['CGPA', 'Research'], \"lasso\", 0.001)"
      ],
      "metadata": {
        "execution": {
          "iopub.status.busy": "2022-11-07T11:50:44.046749Z",
          "iopub.execute_input": "2022-11-07T11:50:44.047194Z",
          "iopub.status.idle": "2022-11-07T11:50:44.076179Z",
          "shell.execute_reply.started": "2022-11-07T11:50:44.047158Z",
          "shell.execute_reply": "2022-11-07T11:50:44.075123Z"
        },
        "trusted": true,
        "id": "tR94T-tSmU3M"
      },
      "execution_count": null,
      "outputs": []
    },
    {
      "cell_type": "markdown",
      "source": [
        "After removing collinear features using VIF and using only two features. R2_score and Adjusted_r2 are still the same as before the testing dataset."
      ],
      "metadata": {
        "id": "w0dopxfumU3M"
      }
    },
    {
      "cell_type": "markdown",
      "source": [
        "#### Mean of Residuals\n",
        "\n",
        "It is clear from RMSE that Mean of Residuals is almost zero."
      ],
      "metadata": {
        "id": "fk_BKQUcmU3M"
      }
    },
    {
      "cell_type": "markdown",
      "source": [
        "#### Linearity of variables\n",
        "\n",
        "It is quite clear from EDA that independent variables are linearly dependent on the target variables."
      ],
      "metadata": {
        "id": "ZAVOJ2oUmU3M"
      }
    },
    {
      "cell_type": "markdown",
      "source": [
        "#### Normality of Residuals"
      ],
      "metadata": {
        "id": "csMLI5eEmU3M"
      }
    },
    {
      "cell_type": "code",
      "source": [
        "y_pred = model.predict(X_test)\n",
        "residuals = (y_test - y_pred)\n",
        "sns.histplot(residuals)\n",
        "plt.show()"
      ],
      "metadata": {
        "execution": {
          "iopub.status.busy": "2022-11-07T11:52:03.920675Z",
          "iopub.execute_input": "2022-11-07T11:52:03.921186Z",
          "iopub.status.idle": "2022-11-07T11:52:04.174157Z",
          "shell.execute_reply.started": "2022-11-07T11:52:03.921147Z",
          "shell.execute_reply": "2022-11-07T11:52:04.173295Z"
        },
        "trusted": true,
        "id": "AaehBNd3mU3N"
      },
      "execution_count": null,
      "outputs": []
    },
    {
      "cell_type": "code",
      "source": [
        "stats.probplot(residuals, plot=plt)\n",
        "plt.show()"
      ],
      "metadata": {
        "execution": {
          "iopub.status.busy": "2022-11-07T11:56:26.817527Z",
          "iopub.execute_input": "2022-11-07T11:56:26.817966Z",
          "iopub.status.idle": "2022-11-07T11:56:27.014319Z",
          "shell.execute_reply.started": "2022-11-07T11:56:26.817931Z",
          "shell.execute_reply": "2022-11-07T11:56:27.013158Z"
        },
        "trusted": true,
        "id": "OBk56f-cmU3N"
      },
      "execution_count": null,
      "outputs": []
    },
    {
      "cell_type": "markdown",
      "source": [
        "#### Test for Homoscedasticity"
      ],
      "metadata": {
        "id": "fkzkYQ-QmU3N"
      }
    },
    {
      "cell_type": "code",
      "source": [
        "plt.scatter(y_pred, residuals)\n",
        "plt.show()"
      ],
      "metadata": {
        "execution": {
          "iopub.status.busy": "2022-11-07T12:30:33.519951Z",
          "iopub.execute_input": "2022-11-07T12:30:33.521221Z",
          "iopub.status.idle": "2022-11-07T12:30:33.689791Z",
          "shell.execute_reply.started": "2022-11-07T12:30:33.521175Z",
          "shell.execute_reply": "2022-11-07T12:30:33.688433Z"
        },
        "trusted": true,
        "id": "_iHXcQ6vmU3N"
      },
      "execution_count": null,
      "outputs": []
    },
    {
      "cell_type": "markdown",
      "source": [
        "Since the plot is not creating a cone type shape. Hence there is no homoscedasticity present in the data."
      ],
      "metadata": {
        "id": "j9KNARTfmU3N"
      }
    },
    {
      "cell_type": "markdown",
      "source": [
        "### Insights\n",
        "\n",
        "1. Multicollinearity is present in the data.\n",
        "2. After removing collinear features there are only two variables which are important in making predictions for the target variables.\n",
        "3. Indepedent variables are linearly correlated with dependent variables.\n",
        "\n",
        "### Recommendations\n",
        "1. `CGPA and Research` are the only two variables which are important in making the prediction for `Chance of Admit`.\n",
        "2. `CGPA` is the most important varibale in making the prediction for the `Chance of Admit`.\n",
        "3. Following are the final model results on the test data:\n",
        "    - **RMSE:** 0.07\n",
        "    - **MAE:** 0.05\n",
        "    - **R2_score:** 0.81\n",
        "    - **Adjusted_R2:** 0.81"
      ],
      "metadata": {
        "id": "5b9TSM2zmU3N"
      }
    },
    {
      "cell_type": "code",
      "source": [],
      "metadata": {
        "trusted": true,
        "id": "rMYXPf2MmU3N"
      },
      "execution_count": null,
      "outputs": []
    },
    {
      "cell_type": "code",
      "source": [],
      "metadata": {
        "id": "TMuYufo3mU3O"
      },
      "execution_count": null,
      "outputs": []
    }
  ]
}