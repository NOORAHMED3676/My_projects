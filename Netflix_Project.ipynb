{
  "cells": [
    {
      "cell_type": "markdown",
      "metadata": {
        "id": "view-in-github",
        "colab_type": "text"
      },
      "source": [
        "<a href=\"https://colab.research.google.com/github/NOORAHMED3676/Scaler_projects/blob/main/Netflix_Project.ipynb\" target=\"_parent\"><img src=\"https://colab.research.google.com/assets/colab-badge.svg\" alt=\"Open In Colab\"/></a>"
      ]
    },
    {
      "cell_type": "code",
      "source": [
        "import pandas as pd\n",
        "import numpy as  np\n",
        "import matplotlib.pyplot as plt\n",
        "import seaborn as sns"
      ],
      "metadata": {
        "id": "djCtKrO01OZL"
      },
      "execution_count": 54,
      "outputs": []
    },
    {
      "cell_type": "code",
      "source": [
        "df = pd.read_csv(\"https://d2beiqkhq929f0.cloudfront.net/public_assets/assets/000/000/940/original/netflix.csv\")\n",
        "df.head()"
      ],
      "metadata": {
        "id": "lZqKKADN4I0E",
        "outputId": "eb103955-84a1-4912-ff65-11facf5650b3",
        "colab": {
          "base_uri": "https://localhost:8080/",
          "height": 345
        }
      },
      "execution_count": 55,
      "outputs": [
        {
          "output_type": "execute_result",
          "data": {
            "text/plain": [
              "  show_id     type                  title         director  \\\n",
              "0      s1    Movie   Dick Johnson Is Dead  Kirsten Johnson   \n",
              "1      s2  TV Show          Blood & Water              NaN   \n",
              "2      s3  TV Show              Ganglands  Julien Leclercq   \n",
              "3      s4  TV Show  Jailbirds New Orleans              NaN   \n",
              "4      s5  TV Show           Kota Factory              NaN   \n",
              "\n",
              "                                                cast        country  \\\n",
              "0                                                NaN  United States   \n",
              "1  Ama Qamata, Khosi Ngema, Gail Mabalane, Thaban...   South Africa   \n",
              "2  Sami Bouajila, Tracy Gotoas, Samuel Jouy, Nabi...            NaN   \n",
              "3                                                NaN            NaN   \n",
              "4  Mayur More, Jitendra Kumar, Ranjan Raj, Alam K...          India   \n",
              "\n",
              "           date_added  release_year rating   duration  \\\n",
              "0  September 25, 2021          2020  PG-13     90 min   \n",
              "1  September 24, 2021          2021  TV-MA  2 Seasons   \n",
              "2  September 24, 2021          2021  TV-MA   1 Season   \n",
              "3  September 24, 2021          2021  TV-MA   1 Season   \n",
              "4  September 24, 2021          2021  TV-MA  2 Seasons   \n",
              "\n",
              "                                           listed_in  \\\n",
              "0                                      Documentaries   \n",
              "1    International TV Shows, TV Dramas, TV Mysteries   \n",
              "2  Crime TV Shows, International TV Shows, TV Act...   \n",
              "3                             Docuseries, Reality TV   \n",
              "4  International TV Shows, Romantic TV Shows, TV ...   \n",
              "\n",
              "                                         description  \n",
              "0  As her father nears the end of his life, filmm...  \n",
              "1  After crossing paths at a party, a Cape Town t...  \n",
              "2  To protect his family from a powerful drug lor...  \n",
              "3  Feuds, flirtations and toilet talk go down amo...  \n",
              "4  In a city of coaching centers known to train I...  "
            ],
            "text/html": [
              "\n",
              "  <div id=\"df-ddde3f36-4a8b-418f-a5cf-2e9ed41f717a\" class=\"colab-df-container\">\n",
              "    <div>\n",
              "<style scoped>\n",
              "    .dataframe tbody tr th:only-of-type {\n",
              "        vertical-align: middle;\n",
              "    }\n",
              "\n",
              "    .dataframe tbody tr th {\n",
              "        vertical-align: top;\n",
              "    }\n",
              "\n",
              "    .dataframe thead th {\n",
              "        text-align: right;\n",
              "    }\n",
              "</style>\n",
              "<table border=\"1\" class=\"dataframe\">\n",
              "  <thead>\n",
              "    <tr style=\"text-align: right;\">\n",
              "      <th></th>\n",
              "      <th>show_id</th>\n",
              "      <th>type</th>\n",
              "      <th>title</th>\n",
              "      <th>director</th>\n",
              "      <th>cast</th>\n",
              "      <th>country</th>\n",
              "      <th>date_added</th>\n",
              "      <th>release_year</th>\n",
              "      <th>rating</th>\n",
              "      <th>duration</th>\n",
              "      <th>listed_in</th>\n",
              "      <th>description</th>\n",
              "    </tr>\n",
              "  </thead>\n",
              "  <tbody>\n",
              "    <tr>\n",
              "      <th>0</th>\n",
              "      <td>s1</td>\n",
              "      <td>Movie</td>\n",
              "      <td>Dick Johnson Is Dead</td>\n",
              "      <td>Kirsten Johnson</td>\n",
              "      <td>NaN</td>\n",
              "      <td>United States</td>\n",
              "      <td>September 25, 2021</td>\n",
              "      <td>2020</td>\n",
              "      <td>PG-13</td>\n",
              "      <td>90 min</td>\n",
              "      <td>Documentaries</td>\n",
              "      <td>As her father nears the end of his life, filmm...</td>\n",
              "    </tr>\n",
              "    <tr>\n",
              "      <th>1</th>\n",
              "      <td>s2</td>\n",
              "      <td>TV Show</td>\n",
              "      <td>Blood &amp; Water</td>\n",
              "      <td>NaN</td>\n",
              "      <td>Ama Qamata, Khosi Ngema, Gail Mabalane, Thaban...</td>\n",
              "      <td>South Africa</td>\n",
              "      <td>September 24, 2021</td>\n",
              "      <td>2021</td>\n",
              "      <td>TV-MA</td>\n",
              "      <td>2 Seasons</td>\n",
              "      <td>International TV Shows, TV Dramas, TV Mysteries</td>\n",
              "      <td>After crossing paths at a party, a Cape Town t...</td>\n",
              "    </tr>\n",
              "    <tr>\n",
              "      <th>2</th>\n",
              "      <td>s3</td>\n",
              "      <td>TV Show</td>\n",
              "      <td>Ganglands</td>\n",
              "      <td>Julien Leclercq</td>\n",
              "      <td>Sami Bouajila, Tracy Gotoas, Samuel Jouy, Nabi...</td>\n",
              "      <td>NaN</td>\n",
              "      <td>September 24, 2021</td>\n",
              "      <td>2021</td>\n",
              "      <td>TV-MA</td>\n",
              "      <td>1 Season</td>\n",
              "      <td>Crime TV Shows, International TV Shows, TV Act...</td>\n",
              "      <td>To protect his family from a powerful drug lor...</td>\n",
              "    </tr>\n",
              "    <tr>\n",
              "      <th>3</th>\n",
              "      <td>s4</td>\n",
              "      <td>TV Show</td>\n",
              "      <td>Jailbirds New Orleans</td>\n",
              "      <td>NaN</td>\n",
              "      <td>NaN</td>\n",
              "      <td>NaN</td>\n",
              "      <td>September 24, 2021</td>\n",
              "      <td>2021</td>\n",
              "      <td>TV-MA</td>\n",
              "      <td>1 Season</td>\n",
              "      <td>Docuseries, Reality TV</td>\n",
              "      <td>Feuds, flirtations and toilet talk go down amo...</td>\n",
              "    </tr>\n",
              "    <tr>\n",
              "      <th>4</th>\n",
              "      <td>s5</td>\n",
              "      <td>TV Show</td>\n",
              "      <td>Kota Factory</td>\n",
              "      <td>NaN</td>\n",
              "      <td>Mayur More, Jitendra Kumar, Ranjan Raj, Alam K...</td>\n",
              "      <td>India</td>\n",
              "      <td>September 24, 2021</td>\n",
              "      <td>2021</td>\n",
              "      <td>TV-MA</td>\n",
              "      <td>2 Seasons</td>\n",
              "      <td>International TV Shows, Romantic TV Shows, TV ...</td>\n",
              "      <td>In a city of coaching centers known to train I...</td>\n",
              "    </tr>\n",
              "  </tbody>\n",
              "</table>\n",
              "</div>\n",
              "    <div class=\"colab-df-buttons\">\n",
              "\n",
              "  <div class=\"colab-df-container\">\n",
              "    <button class=\"colab-df-convert\" onclick=\"convertToInteractive('df-ddde3f36-4a8b-418f-a5cf-2e9ed41f717a')\"\n",
              "            title=\"Convert this dataframe to an interactive table.\"\n",
              "            style=\"display:none;\">\n",
              "\n",
              "  <svg xmlns=\"http://www.w3.org/2000/svg\" height=\"24px\" viewBox=\"0 -960 960 960\">\n",
              "    <path d=\"M120-120v-720h720v720H120Zm60-500h600v-160H180v160Zm220 220h160v-160H400v160Zm0 220h160v-160H400v160ZM180-400h160v-160H180v160Zm440 0h160v-160H620v160ZM180-180h160v-160H180v160Zm440 0h160v-160H620v160Z\"/>\n",
              "  </svg>\n",
              "    </button>\n",
              "\n",
              "  <style>\n",
              "    .colab-df-container {\n",
              "      display:flex;\n",
              "      gap: 12px;\n",
              "    }\n",
              "\n",
              "    .colab-df-convert {\n",
              "      background-color: #E8F0FE;\n",
              "      border: none;\n",
              "      border-radius: 50%;\n",
              "      cursor: pointer;\n",
              "      display: none;\n",
              "      fill: #1967D2;\n",
              "      height: 32px;\n",
              "      padding: 0 0 0 0;\n",
              "      width: 32px;\n",
              "    }\n",
              "\n",
              "    .colab-df-convert:hover {\n",
              "      background-color: #E2EBFA;\n",
              "      box-shadow: 0px 1px 2px rgba(60, 64, 67, 0.3), 0px 1px 3px 1px rgba(60, 64, 67, 0.15);\n",
              "      fill: #174EA6;\n",
              "    }\n",
              "\n",
              "    .colab-df-buttons div {\n",
              "      margin-bottom: 4px;\n",
              "    }\n",
              "\n",
              "    [theme=dark] .colab-df-convert {\n",
              "      background-color: #3B4455;\n",
              "      fill: #D2E3FC;\n",
              "    }\n",
              "\n",
              "    [theme=dark] .colab-df-convert:hover {\n",
              "      background-color: #434B5C;\n",
              "      box-shadow: 0px 1px 3px 1px rgba(0, 0, 0, 0.15);\n",
              "      filter: drop-shadow(0px 1px 2px rgba(0, 0, 0, 0.3));\n",
              "      fill: #FFFFFF;\n",
              "    }\n",
              "  </style>\n",
              "\n",
              "    <script>\n",
              "      const buttonEl =\n",
              "        document.querySelector('#df-ddde3f36-4a8b-418f-a5cf-2e9ed41f717a button.colab-df-convert');\n",
              "      buttonEl.style.display =\n",
              "        google.colab.kernel.accessAllowed ? 'block' : 'none';\n",
              "\n",
              "      async function convertToInteractive(key) {\n",
              "        const element = document.querySelector('#df-ddde3f36-4a8b-418f-a5cf-2e9ed41f717a');\n",
              "        const dataTable =\n",
              "          await google.colab.kernel.invokeFunction('convertToInteractive',\n",
              "                                                    [key], {});\n",
              "        if (!dataTable) return;\n",
              "\n",
              "        const docLinkHtml = 'Like what you see? Visit the ' +\n",
              "          '<a target=\"_blank\" href=https://colab.research.google.com/notebooks/data_table.ipynb>data table notebook</a>'\n",
              "          + ' to learn more about interactive tables.';\n",
              "        element.innerHTML = '';\n",
              "        dataTable['output_type'] = 'display_data';\n",
              "        await google.colab.output.renderOutput(dataTable, element);\n",
              "        const docLink = document.createElement('div');\n",
              "        docLink.innerHTML = docLinkHtml;\n",
              "        element.appendChild(docLink);\n",
              "      }\n",
              "    </script>\n",
              "  </div>\n",
              "\n",
              "\n",
              "<div id=\"df-66dd309c-ccdc-4049-9b1e-eb74cf55b88b\">\n",
              "  <button class=\"colab-df-quickchart\" onclick=\"quickchart('df-66dd309c-ccdc-4049-9b1e-eb74cf55b88b')\"\n",
              "            title=\"Suggest charts\"\n",
              "            style=\"display:none;\">\n",
              "\n",
              "<svg xmlns=\"http://www.w3.org/2000/svg\" height=\"24px\"viewBox=\"0 0 24 24\"\n",
              "     width=\"24px\">\n",
              "    <g>\n",
              "        <path d=\"M19 3H5c-1.1 0-2 .9-2 2v14c0 1.1.9 2 2 2h14c1.1 0 2-.9 2-2V5c0-1.1-.9-2-2-2zM9 17H7v-7h2v7zm4 0h-2V7h2v10zm4 0h-2v-4h2v4z\"/>\n",
              "    </g>\n",
              "</svg>\n",
              "  </button>\n",
              "\n",
              "<style>\n",
              "  .colab-df-quickchart {\n",
              "      --bg-color: #E8F0FE;\n",
              "      --fill-color: #1967D2;\n",
              "      --hover-bg-color: #E2EBFA;\n",
              "      --hover-fill-color: #174EA6;\n",
              "      --disabled-fill-color: #AAA;\n",
              "      --disabled-bg-color: #DDD;\n",
              "  }\n",
              "\n",
              "  [theme=dark] .colab-df-quickchart {\n",
              "      --bg-color: #3B4455;\n",
              "      --fill-color: #D2E3FC;\n",
              "      --hover-bg-color: #434B5C;\n",
              "      --hover-fill-color: #FFFFFF;\n",
              "      --disabled-bg-color: #3B4455;\n",
              "      --disabled-fill-color: #666;\n",
              "  }\n",
              "\n",
              "  .colab-df-quickchart {\n",
              "    background-color: var(--bg-color);\n",
              "    border: none;\n",
              "    border-radius: 50%;\n",
              "    cursor: pointer;\n",
              "    display: none;\n",
              "    fill: var(--fill-color);\n",
              "    height: 32px;\n",
              "    padding: 0;\n",
              "    width: 32px;\n",
              "  }\n",
              "\n",
              "  .colab-df-quickchart:hover {\n",
              "    background-color: var(--hover-bg-color);\n",
              "    box-shadow: 0 1px 2px rgba(60, 64, 67, 0.3), 0 1px 3px 1px rgba(60, 64, 67, 0.15);\n",
              "    fill: var(--button-hover-fill-color);\n",
              "  }\n",
              "\n",
              "  .colab-df-quickchart-complete:disabled,\n",
              "  .colab-df-quickchart-complete:disabled:hover {\n",
              "    background-color: var(--disabled-bg-color);\n",
              "    fill: var(--disabled-fill-color);\n",
              "    box-shadow: none;\n",
              "  }\n",
              "\n",
              "  .colab-df-spinner {\n",
              "    border: 2px solid var(--fill-color);\n",
              "    border-color: transparent;\n",
              "    border-bottom-color: var(--fill-color);\n",
              "    animation:\n",
              "      spin 1s steps(1) infinite;\n",
              "  }\n",
              "\n",
              "  @keyframes spin {\n",
              "    0% {\n",
              "      border-color: transparent;\n",
              "      border-bottom-color: var(--fill-color);\n",
              "      border-left-color: var(--fill-color);\n",
              "    }\n",
              "    20% {\n",
              "      border-color: transparent;\n",
              "      border-left-color: var(--fill-color);\n",
              "      border-top-color: var(--fill-color);\n",
              "    }\n",
              "    30% {\n",
              "      border-color: transparent;\n",
              "      border-left-color: var(--fill-color);\n",
              "      border-top-color: var(--fill-color);\n",
              "      border-right-color: var(--fill-color);\n",
              "    }\n",
              "    40% {\n",
              "      border-color: transparent;\n",
              "      border-right-color: var(--fill-color);\n",
              "      border-top-color: var(--fill-color);\n",
              "    }\n",
              "    60% {\n",
              "      border-color: transparent;\n",
              "      border-right-color: var(--fill-color);\n",
              "    }\n",
              "    80% {\n",
              "      border-color: transparent;\n",
              "      border-right-color: var(--fill-color);\n",
              "      border-bottom-color: var(--fill-color);\n",
              "    }\n",
              "    90% {\n",
              "      border-color: transparent;\n",
              "      border-bottom-color: var(--fill-color);\n",
              "    }\n",
              "  }\n",
              "</style>\n",
              "\n",
              "  <script>\n",
              "    async function quickchart(key) {\n",
              "      const quickchartButtonEl =\n",
              "        document.querySelector('#' + key + ' button');\n",
              "      quickchartButtonEl.disabled = true;  // To prevent multiple clicks.\n",
              "      quickchartButtonEl.classList.add('colab-df-spinner');\n",
              "      try {\n",
              "        const charts = await google.colab.kernel.invokeFunction(\n",
              "            'suggestCharts', [key], {});\n",
              "      } catch (error) {\n",
              "        console.error('Error during call to suggestCharts:', error);\n",
              "      }\n",
              "      quickchartButtonEl.classList.remove('colab-df-spinner');\n",
              "      quickchartButtonEl.classList.add('colab-df-quickchart-complete');\n",
              "    }\n",
              "    (() => {\n",
              "      let quickchartButtonEl =\n",
              "        document.querySelector('#df-66dd309c-ccdc-4049-9b1e-eb74cf55b88b button');\n",
              "      quickchartButtonEl.style.display =\n",
              "        google.colab.kernel.accessAllowed ? 'block' : 'none';\n",
              "    })();\n",
              "  </script>\n",
              "</div>\n",
              "\n",
              "    </div>\n",
              "  </div>\n"
            ],
            "application/vnd.google.colaboratory.intrinsic+json": {
              "type": "dataframe",
              "variable_name": "df",
              "summary": "{\n  \"name\": \"df\",\n  \"rows\": 8807,\n  \"fields\": [\n    {\n      \"column\": \"show_id\",\n      \"properties\": {\n        \"dtype\": \"string\",\n        \"num_unique_values\": 8807,\n        \"samples\": [\n          \"s4971\",\n          \"s3363\",\n          \"s5495\"\n        ],\n        \"semantic_type\": \"\",\n        \"description\": \"\"\n      }\n    },\n    {\n      \"column\": \"type\",\n      \"properties\": {\n        \"dtype\": \"category\",\n        \"num_unique_values\": 2,\n        \"samples\": [\n          \"TV Show\",\n          \"Movie\"\n        ],\n        \"semantic_type\": \"\",\n        \"description\": \"\"\n      }\n    },\n    {\n      \"column\": \"title\",\n      \"properties\": {\n        \"dtype\": \"string\",\n        \"num_unique_values\": 8807,\n        \"samples\": [\n          \"Game Over, Man!\",\n          \"Arsenio Hall: Smart & Classy\"\n        ],\n        \"semantic_type\": \"\",\n        \"description\": \"\"\n      }\n    },\n    {\n      \"column\": \"director\",\n      \"properties\": {\n        \"dtype\": \"string\",\n        \"num_unique_values\": 4528,\n        \"samples\": [\n          \"Kanwal Sethi\",\n          \"R\\u00e9my Four, Julien War\"\n        ],\n        \"semantic_type\": \"\",\n        \"description\": \"\"\n      }\n    },\n    {\n      \"column\": \"cast\",\n      \"properties\": {\n        \"dtype\": \"string\",\n        \"num_unique_values\": 7692,\n        \"samples\": [\n          \"Tzi Ma, Christine Ko, Hong-Chi Lee, Hayden Szeto, Kunjue Li, Fiona Fu, James Saito, Joan Chen\",\n          \"Priyanshu Painyuli, Chandrachoor Rai, Shadab Kamal, Rajeev Siddhartha, Sheetal Thakur, Ninad Kamat, Swati Semwal, Eijaz Khan\"\n        ],\n        \"semantic_type\": \"\",\n        \"description\": \"\"\n      }\n    },\n    {\n      \"column\": \"country\",\n      \"properties\": {\n        \"dtype\": \"category\",\n        \"num_unique_values\": 748,\n        \"samples\": [\n          \"United States, United Kingdom, Denmark, Sweden\",\n          \"United Kingdom, Hong Kong\"\n        ],\n        \"semantic_type\": \"\",\n        \"description\": \"\"\n      }\n    },\n    {\n      \"column\": \"date_added\",\n      \"properties\": {\n        \"dtype\": \"category\",\n        \"num_unique_values\": 1767,\n        \"samples\": [\n          \"October 22, 2018\",\n          \"January 29, 2021\"\n        ],\n        \"semantic_type\": \"\",\n        \"description\": \"\"\n      }\n    },\n    {\n      \"column\": \"release_year\",\n      \"properties\": {\n        \"dtype\": \"number\",\n        \"std\": 8,\n        \"min\": 1925,\n        \"max\": 2021,\n        \"num_unique_values\": 74,\n        \"samples\": [\n          1996,\n          1969\n        ],\n        \"semantic_type\": \"\",\n        \"description\": \"\"\n      }\n    },\n    {\n      \"column\": \"rating\",\n      \"properties\": {\n        \"dtype\": \"category\",\n        \"num_unique_values\": 17,\n        \"samples\": [\n          \"PG-13\",\n          \"TV-MA\"\n        ],\n        \"semantic_type\": \"\",\n        \"description\": \"\"\n      }\n    },\n    {\n      \"column\": \"duration\",\n      \"properties\": {\n        \"dtype\": \"category\",\n        \"num_unique_values\": 220,\n        \"samples\": [\n          \"37 min\",\n          \"177 min\"\n        ],\n        \"semantic_type\": \"\",\n        \"description\": \"\"\n      }\n    },\n    {\n      \"column\": \"listed_in\",\n      \"properties\": {\n        \"dtype\": \"category\",\n        \"num_unique_values\": 514,\n        \"samples\": [\n          \"Crime TV Shows, International TV Shows, TV Mysteries\",\n          \"Children & Family Movies, Classic Movies, Dramas\"\n        ],\n        \"semantic_type\": \"\",\n        \"description\": \"\"\n      }\n    },\n    {\n      \"column\": \"description\",\n      \"properties\": {\n        \"dtype\": \"string\",\n        \"num_unique_values\": 8775,\n        \"samples\": [\n          \"A heedless teen drifter who falls for a small-town waitress makes the mistake of robbing a drug lord, putting his life and newfound love in jeopardy.\",\n          \"Twelve-year-old Calvin manages to join the navy and serves in the battle of Guadalcanal. But when his age is revealed, the boy is sent to the brig.\"\n        ],\n        \"semantic_type\": \"\",\n        \"description\": \"\"\n      }\n    }\n  ]\n}"
            }
          },
          "metadata": {},
          "execution_count": 55
        }
      ]
    },
    {
      "cell_type": "code",
      "source": [
        "df.shape"
      ],
      "metadata": {
        "id": "bkytAIHs4X68",
        "outputId": "142ba6f6-2fef-4467-cebc-300c8690cf27",
        "colab": {
          "base_uri": "https://localhost:8080/"
        }
      },
      "execution_count": 56,
      "outputs": [
        {
          "output_type": "execute_result",
          "data": {
            "text/plain": [
              "(8807, 12)"
            ]
          },
          "metadata": {},
          "execution_count": 56
        }
      ]
    },
    {
      "cell_type": "code",
      "source": [
        "df.info()"
      ],
      "metadata": {
        "id": "eXN-HiY14w7D",
        "outputId": "a1341edd-86f8-4e05-e853-1c9e878b76bd",
        "colab": {
          "base_uri": "https://localhost:8080/"
        }
      },
      "execution_count": 57,
      "outputs": [
        {
          "output_type": "stream",
          "name": "stdout",
          "text": [
            "<class 'pandas.core.frame.DataFrame'>\n",
            "RangeIndex: 8807 entries, 0 to 8806\n",
            "Data columns (total 12 columns):\n",
            " #   Column        Non-Null Count  Dtype \n",
            "---  ------        --------------  ----- \n",
            " 0   show_id       8807 non-null   object\n",
            " 1   type          8807 non-null   object\n",
            " 2   title         8807 non-null   object\n",
            " 3   director      6173 non-null   object\n",
            " 4   cast          7982 non-null   object\n",
            " 5   country       7976 non-null   object\n",
            " 6   date_added    8797 non-null   object\n",
            " 7   release_year  8807 non-null   int64 \n",
            " 8   rating        8803 non-null   object\n",
            " 9   duration      8804 non-null   object\n",
            " 10  listed_in     8807 non-null   object\n",
            " 11  description   8807 non-null   object\n",
            "dtypes: int64(1), object(11)\n",
            "memory usage: 825.8+ KB\n"
          ]
        }
      ]
    },
    {
      "cell_type": "code",
      "source": [
        "df[\"type\"].value_counts()"
      ],
      "metadata": {
        "id": "eEZDuf_C5AHm",
        "outputId": "2b1d2cb3-5592-46d4-ec15-9adba40cd543",
        "colab": {
          "base_uri": "https://localhost:8080/",
          "height": 178
        }
      },
      "execution_count": 58,
      "outputs": [
        {
          "output_type": "execute_result",
          "data": {
            "text/plain": [
              "type\n",
              "Movie      6131\n",
              "TV Show    2676\n",
              "Name: count, dtype: int64"
            ],
            "text/html": [
              "<div>\n",
              "<style scoped>\n",
              "    .dataframe tbody tr th:only-of-type {\n",
              "        vertical-align: middle;\n",
              "    }\n",
              "\n",
              "    .dataframe tbody tr th {\n",
              "        vertical-align: top;\n",
              "    }\n",
              "\n",
              "    .dataframe thead th {\n",
              "        text-align: right;\n",
              "    }\n",
              "</style>\n",
              "<table border=\"1\" class=\"dataframe\">\n",
              "  <thead>\n",
              "    <tr style=\"text-align: right;\">\n",
              "      <th></th>\n",
              "      <th>count</th>\n",
              "    </tr>\n",
              "    <tr>\n",
              "      <th>type</th>\n",
              "      <th></th>\n",
              "    </tr>\n",
              "  </thead>\n",
              "  <tbody>\n",
              "    <tr>\n",
              "      <th>Movie</th>\n",
              "      <td>6131</td>\n",
              "    </tr>\n",
              "    <tr>\n",
              "      <th>TV Show</th>\n",
              "      <td>2676</td>\n",
              "    </tr>\n",
              "  </tbody>\n",
              "</table>\n",
              "</div><br><label><b>dtype:</b> int64</label>"
            ]
          },
          "metadata": {},
          "execution_count": 58
        }
      ]
    },
    {
      "cell_type": "code",
      "source": [
        "df[\"country\"].value_counts()"
      ],
      "metadata": {
        "id": "Cs59z_aenLZR",
        "outputId": "1ad5b782-cba7-449c-f4bc-836a8b6601ad",
        "colab": {
          "base_uri": "https://localhost:8080/",
          "height": 489
        }
      },
      "execution_count": 59,
      "outputs": [
        {
          "output_type": "execute_result",
          "data": {
            "text/plain": [
              "country\n",
              "United States                                                      2818\n",
              "India                                                               972\n",
              "United Kingdom                                                      419\n",
              "Japan                                                               245\n",
              "South Korea                                                         199\n",
              "                                                                   ... \n",
              "Mexico, United States, Spain, Colombia                                1\n",
              "Canada, Norway                                                        1\n",
              "Finland, Germany, Belgium                                             1\n",
              "Argentina, United States, Mexico                                      1\n",
              "United Kingdom, United States, Germany, Denmark, Belgium, Japan       1\n",
              "Name: count, Length: 748, dtype: int64"
            ],
            "text/html": [
              "<div>\n",
              "<style scoped>\n",
              "    .dataframe tbody tr th:only-of-type {\n",
              "        vertical-align: middle;\n",
              "    }\n",
              "\n",
              "    .dataframe tbody tr th {\n",
              "        vertical-align: top;\n",
              "    }\n",
              "\n",
              "    .dataframe thead th {\n",
              "        text-align: right;\n",
              "    }\n",
              "</style>\n",
              "<table border=\"1\" class=\"dataframe\">\n",
              "  <thead>\n",
              "    <tr style=\"text-align: right;\">\n",
              "      <th></th>\n",
              "      <th>count</th>\n",
              "    </tr>\n",
              "    <tr>\n",
              "      <th>country</th>\n",
              "      <th></th>\n",
              "    </tr>\n",
              "  </thead>\n",
              "  <tbody>\n",
              "    <tr>\n",
              "      <th>United States</th>\n",
              "      <td>2818</td>\n",
              "    </tr>\n",
              "    <tr>\n",
              "      <th>India</th>\n",
              "      <td>972</td>\n",
              "    </tr>\n",
              "    <tr>\n",
              "      <th>United Kingdom</th>\n",
              "      <td>419</td>\n",
              "    </tr>\n",
              "    <tr>\n",
              "      <th>Japan</th>\n",
              "      <td>245</td>\n",
              "    </tr>\n",
              "    <tr>\n",
              "      <th>South Korea</th>\n",
              "      <td>199</td>\n",
              "    </tr>\n",
              "    <tr>\n",
              "      <th>...</th>\n",
              "      <td>...</td>\n",
              "    </tr>\n",
              "    <tr>\n",
              "      <th>Mexico, United States, Spain, Colombia</th>\n",
              "      <td>1</td>\n",
              "    </tr>\n",
              "    <tr>\n",
              "      <th>Canada, Norway</th>\n",
              "      <td>1</td>\n",
              "    </tr>\n",
              "    <tr>\n",
              "      <th>Finland, Germany, Belgium</th>\n",
              "      <td>1</td>\n",
              "    </tr>\n",
              "    <tr>\n",
              "      <th>Argentina, United States, Mexico</th>\n",
              "      <td>1</td>\n",
              "    </tr>\n",
              "    <tr>\n",
              "      <th>United Kingdom, United States, Germany, Denmark, Belgium, Japan</th>\n",
              "      <td>1</td>\n",
              "    </tr>\n",
              "  </tbody>\n",
              "</table>\n",
              "<p>748 rows × 1 columns</p>\n",
              "</div><br><label><b>dtype:</b> int64</label>"
            ]
          },
          "metadata": {},
          "execution_count": 59
        }
      ]
    },
    {
      "cell_type": "code",
      "source": [
        "df[\"release_year\"].value_counts()"
      ],
      "metadata": {
        "id": "3_HcW-YhnmKy",
        "outputId": "dad952dc-7df7-4e60-8fc3-40e4dca9a3be",
        "colab": {
          "base_uri": "https://localhost:8080/",
          "height": 489
        }
      },
      "execution_count": 60,
      "outputs": [
        {
          "output_type": "execute_result",
          "data": {
            "text/plain": [
              "release_year\n",
              "2018    1147\n",
              "2017    1032\n",
              "2019    1030\n",
              "2020     953\n",
              "2016     902\n",
              "        ... \n",
              "1961       1\n",
              "1925       1\n",
              "1959       1\n",
              "1966       1\n",
              "1947       1\n",
              "Name: count, Length: 74, dtype: int64"
            ],
            "text/html": [
              "<div>\n",
              "<style scoped>\n",
              "    .dataframe tbody tr th:only-of-type {\n",
              "        vertical-align: middle;\n",
              "    }\n",
              "\n",
              "    .dataframe tbody tr th {\n",
              "        vertical-align: top;\n",
              "    }\n",
              "\n",
              "    .dataframe thead th {\n",
              "        text-align: right;\n",
              "    }\n",
              "</style>\n",
              "<table border=\"1\" class=\"dataframe\">\n",
              "  <thead>\n",
              "    <tr style=\"text-align: right;\">\n",
              "      <th></th>\n",
              "      <th>count</th>\n",
              "    </tr>\n",
              "    <tr>\n",
              "      <th>release_year</th>\n",
              "      <th></th>\n",
              "    </tr>\n",
              "  </thead>\n",
              "  <tbody>\n",
              "    <tr>\n",
              "      <th>2018</th>\n",
              "      <td>1147</td>\n",
              "    </tr>\n",
              "    <tr>\n",
              "      <th>2017</th>\n",
              "      <td>1032</td>\n",
              "    </tr>\n",
              "    <tr>\n",
              "      <th>2019</th>\n",
              "      <td>1030</td>\n",
              "    </tr>\n",
              "    <tr>\n",
              "      <th>2020</th>\n",
              "      <td>953</td>\n",
              "    </tr>\n",
              "    <tr>\n",
              "      <th>2016</th>\n",
              "      <td>902</td>\n",
              "    </tr>\n",
              "    <tr>\n",
              "      <th>...</th>\n",
              "      <td>...</td>\n",
              "    </tr>\n",
              "    <tr>\n",
              "      <th>1961</th>\n",
              "      <td>1</td>\n",
              "    </tr>\n",
              "    <tr>\n",
              "      <th>1925</th>\n",
              "      <td>1</td>\n",
              "    </tr>\n",
              "    <tr>\n",
              "      <th>1959</th>\n",
              "      <td>1</td>\n",
              "    </tr>\n",
              "    <tr>\n",
              "      <th>1966</th>\n",
              "      <td>1</td>\n",
              "    </tr>\n",
              "    <tr>\n",
              "      <th>1947</th>\n",
              "      <td>1</td>\n",
              "    </tr>\n",
              "  </tbody>\n",
              "</table>\n",
              "<p>74 rows × 1 columns</p>\n",
              "</div><br><label><b>dtype:</b> int64</label>"
            ]
          },
          "metadata": {},
          "execution_count": 60
        }
      ]
    },
    {
      "cell_type": "code",
      "source": [
        " # Number of titles added by year\n",
        "\n",
        " df[\"df_added\"] = pd.to_datetime(df[\"date_added\"], errors=\"coerce\")\n",
        " df[\"year_added\"] = df[\"df_added\"].dt.year\n",
        " titles_by_year = df[\"year_added\"].value_counts().sort_index()\n",
        " print(\"Number of Titles Added by Year:\")\n",
        " print(titles_by_year)"
      ],
      "metadata": {
        "id": "UiwPdSKLn2xv",
        "outputId": "d03b223e-b7da-4939-92e7-c661343945e1",
        "colab": {
          "base_uri": "https://localhost:8080/"
        }
      },
      "execution_count": 61,
      "outputs": [
        {
          "output_type": "stream",
          "name": "stdout",
          "text": [
            "Number of Titles Added by Year:\n",
            "year_added\n",
            "2008.0       2\n",
            "2009.0       2\n",
            "2010.0       1\n",
            "2011.0      13\n",
            "2012.0       3\n",
            "2013.0      10\n",
            "2014.0      23\n",
            "2015.0      73\n",
            "2016.0     418\n",
            "2017.0    1164\n",
            "2018.0    1625\n",
            "2019.0    1999\n",
            "2020.0    1878\n",
            "2021.0    1498\n",
            "Name: count, dtype: int64\n"
          ]
        }
      ]
    },
    {
      "cell_type": "markdown",
      "source": [
        "### 1) How has the number of movies released per year changed over the last 20-30 years?"
      ],
      "metadata": {
        "id": "jqE998mGwsJA"
      }
    },
    {
      "cell_type": "code",
      "source": [
        " movies_df = df[df[\"type\"]==\"Movie\"]\n",
        " movies_last_30_years = movies_df[movies_df[\"release_year\"]>1990]\n",
        " movies_per_year = movies_last_30_years[\"release_year\"].value_counts().sort_index()\n",
        " plt.figure(figsize=(10,5))\n",
        " movies_per_year.plot(kind=\"bar\",color=\"Purple\")\n",
        " plt.title(\"Number of Movies released Per Year\")\n",
        " plt.xlabel(\"Year\")\n",
        " plt.ylabel(\"Number of Movies\")\n",
        " plt.xticks(rotation=45)\n",
        " plt.show()"
      ],
      "metadata": {
        "id": "1abu8crZwwIq",
        "outputId": "87b162d5-7e78-4b72-c597-b2902cc91a01",
        "colab": {
          "base_uri": "https://localhost:8080/",
          "height": 508
        }
      },
      "execution_count": 62,
      "outputs": [
        {
          "output_type": "display_data",
          "data": {
            "text/plain": [
              "<Figure size 1000x500 with 1 Axes>"
            ],
            "image/png": "[encoded data removed]"
          },
          "metadata": {}
        }
      ]
    },
    {
      "cell_type": "markdown",
      "source": [
        "## 2) Comparison of Tv Shows Vs Movies"
      ],
      "metadata": {
        "id": "RYVeZiKLcCoB"
      }
    },
    {
      "cell_type": "code",
      "source": [
        " type_counts = df[\"type\"].value_counts()\n",
        " print(\"Number of Movies Vs Tv Shows :\")\n",
        " print(type_counts)"
      ],
      "metadata": {
        "id": "17o8NfQ8cFkC",
        "outputId": "e6dd10eb-26a2-4214-c218-096605dd46cb",
        "colab": {
          "base_uri": "https://localhost:8080/"
        }
      },
      "execution_count": 63,
      "outputs": [
        {
          "output_type": "stream",
          "name": "stdout",
          "text": [
            "Number of Movies Vs Tv Shows :\n",
            "type\n",
            "Movie      6131\n",
            "TV Show    2676\n",
            "Name: count, dtype: int64\n"
          ]
        }
      ]
    },
    {
      "cell_type": "markdown",
      "source": [
        "##3) What is the best time to launch a TV show"
      ],
      "metadata": {
        "id": "Jea4GW_jcmmR"
      }
    },
    {
      "cell_type": "code",
      "source": [
        "tv_shows_df = df [df['type']=='TV Show']\n",
        "tv_shows_df['date_added'] = pd.to_datetime(tv_shows_df['date_added'],errors='coerce')\n",
        "tv_shows_df['month_added'] = tv_shows_df ['date_added'].dt.month\n",
        "tv_shows_df['year_added'] = tv_shows_df['date_added'].dt.year\n",
        "tv_shows_by_month_total = tv_shows_df ['month_added'].value_counts().sort_index()\n",
        "tv_shows_by_average_total = tv_shows_df.groupby('month_added').size().mean()\n",
        "print('Total number of TV shows added per month')\n",
        "print(tv_shows_by_month_total)\n",
        "print('\\nAverage number of TV shows added per month:')\n",
        "print(tv_shows_by_average_total)"
      ],
      "metadata": {
        "id": "6mtzptMAcpbd",
        "outputId": "57d0b4cd-e22e-4526-cf52-346153a4bac5",
        "colab": {
          "base_uri": "https://localhost:8080/"
        }
      },
      "execution_count": 64,
      "outputs": [
        {
          "output_type": "stream",
          "name": "stdout",
          "text": [
            "Total number of TV shows added per month\n",
            "month_added\n",
            "1.0     181\n",
            "2.0     175\n",
            "3.0     205\n",
            "4.0     209\n",
            "5.0     187\n",
            "6.0     232\n",
            "7.0     254\n",
            "8.0     230\n",
            "9.0     246\n",
            "10.0    210\n",
            "11.0    199\n",
            "12.0    250\n",
            "Name: count, dtype: int64\n",
            "\n",
            "Average number of TV shows added per month:\n",
            "214.83333333333334\n"
          ]
        },
        {
          "output_type": "stream",
          "name": "stderr",
          "text": [
            "<ipython-input-64-88f2beb9b17e>:2: SettingWithCopyWarning: \n",
            "A value is trying to be set on a copy of a slice from a DataFrame.\n",
            "Try using .loc[row_indexer,col_indexer] = value instead\n",
            "\n",
            "See the caveats in the documentation: https://pandas.pydata.org/pandas-docs/stable/user_guide/indexing.html#returning-a-view-versus-a-copy\n",
            "  tv_shows_df['date_added'] = pd.to_datetime(tv_shows_df['date_added'],errors='coerce')\n",
            "<ipython-input-64-88f2beb9b17e>:3: SettingWithCopyWarning: \n",
            "A value is trying to be set on a copy of a slice from a DataFrame.\n",
            "Try using .loc[row_indexer,col_indexer] = value instead\n",
            "\n",
            "See the caveats in the documentation: https://pandas.pydata.org/pandas-docs/stable/user_guide/indexing.html#returning-a-view-versus-a-copy\n",
            "  tv_shows_df['month_added'] = tv_shows_df ['date_added'].dt.month\n",
            "<ipython-input-64-88f2beb9b17e>:4: SettingWithCopyWarning: \n",
            "A value is trying to be set on a copy of a slice from a DataFrame.\n",
            "Try using .loc[row_indexer,col_indexer] = value instead\n",
            "\n",
            "See the caveats in the documentation: https://pandas.pydata.org/pandas-docs/stable/user_guide/indexing.html#returning-a-view-versus-a-copy\n",
            "  tv_shows_df['year_added'] = tv_shows_df['date_added'].dt.year\n"
          ]
        }
      ]
    },
    {
      "cell_type": "markdown",
      "source": [
        "##4)Analysis of actors/directors of different types of shows/movies"
      ],
      "metadata": {
        "id": "8Yq_QZkMc2q0"
      }
    },
    {
      "cell_type": "code",
      "source": [
        " tv_shows_with_dir = tv_shows_df.dropna(subset='director')\n",
        " movies_shows_with_dir = movies_df.dropna(subset='director')\n",
        " top_movie_directors = movies_shows_with_dir['director'].value_counts().head(10)\n",
        " print('Top 10 Directors for Movies:')\n",
        " print(top_movie_directors)\n",
        " top_tv_shows_directors = tv_shows_with_dir['director'].value_counts().head(10)\n",
        " print('\\nTop 10 Directors for TV Shows:')\n",
        " print(top_tv_shows_directors)"
      ],
      "metadata": {
        "id": "cdwU3mWPc6Tb",
        "outputId": "a69b2f36-0338-4275-a46b-c4d367f91c26",
        "colab": {
          "base_uri": "https://localhost:8080/"
        }
      },
      "execution_count": 65,
      "outputs": [
        {
          "output_type": "stream",
          "name": "stdout",
          "text": [
            "Top 10 Directors for Movies:\n",
            "director\n",
            "Rajiv Chilaka             19\n",
            "Raúl Campos, Jan Suter    18\n",
            "Suhas Kadav               16\n",
            "Marcus Raboy              15\n",
            "Jay Karas                 14\n",
            "Cathy Garcia-Molina       13\n",
            "Jay Chapman               12\n",
            "Martin Scorsese           12\n",
            "Youssef Chahine           12\n",
            "Steven Spielberg          11\n",
            "Name: count, dtype: int64\n",
            "\n",
            "Top 10 Directors for TV Shows:\n",
            "director\n",
            "Alastair Fothergill                    3\n",
            "Rob Seidenglanz                        2\n",
            "Ken Burns                              2\n",
            "Stan Lathan                            2\n",
            "Shin Won-ho                            2\n",
            "Hsu Fu-chun                            2\n",
            "Iginio Straffi                         2\n",
            "Jason Hehir                            1\n",
            "Gerhard Mostert                        1\n",
            "Luis Alfaro, Javier Gómez Santander    1\n",
            "Name: count, dtype: int64\n"
          ]
        }
      ]
    },
    {
      "cell_type": "markdown",
      "source": [
        "##5)Does Net ix has more focus on TV Shows than movies in recent years"
      ],
      "metadata": {
        "id": "wk8yKnKldCYC"
      }
    },
    {
      "cell_type": "code",
      "source": [
        " recent_years = 5\n",
        " recent_df= df[df['year_added']>=df['year_added'].max() - recent_years]\n",
        " tv_shows_vs_movies = recent_df.groupby(['year_added','type']).size().unstack()\n",
        " tv_shows_vs_movies = tv_shows_vs_movies.fillna(0)\n",
        " print(tv_shows_vs_movies)\n",
        " total_tv_shows = tv_shows_vs_movies['TV Show'].sum()\n",
        " total_movies = tv_shows_vs_movies['Movie'].sum()\n",
        " print(\"\\nTotal Movies added in the last recent_years) years: (total_movies)\")\n",
        " print(\"Total TV Shows added in the last recent_years) years: (total_tv_shows)\")\n",
        " if total_tv_shows > total_movies:\n",
        "  print(\"\\nNetflix has focused more on TV Shows than Movies in the last {recent_years}\")\n",
        " else:\n",
        "  print(\"\\nNetflix has focused more on Movies than TV Shows in the last {recent_years}\")"
      ],
      "metadata": {
        "id": "qau8e1cQdJ0P",
        "outputId": "1841af6e-aa9c-428f-b24a-f5a338e184ab",
        "colab": {
          "base_uri": "https://localhost:8080/"
        }
      },
      "execution_count": 66,
      "outputs": [
        {
          "output_type": "stream",
          "name": "stdout",
          "text": [
            "type        Movie  TV Show\n",
            "year_added                \n",
            "2016.0        253      165\n",
            "2017.0        839      325\n",
            "2018.0       1237      388\n",
            "2019.0       1424      575\n",
            "2020.0       1284      594\n",
            "2021.0        993      505\n",
            "\n",
            "Total Movies added in the last recent_years) years: (total_movies)\n",
            "Total TV Shows added in the last recent_years) years: (total_tv_shows)\n",
            "\n",
            "Netflix has focused more on Movies than TV Shows in the last {recent_years}\n"
          ]
        }
      ]
    },
    {
      "cell_type": "code",
      "source": [
        " tv_shows_vs_movies"
      ],
      "metadata": {
        "id": "YUJoUwxJdcp0",
        "outputId": "44816f3a-6daa-413e-98c6-342a2cde6588",
        "colab": {
          "base_uri": "https://localhost:8080/",
          "height": 269
        }
      },
      "execution_count": 67,
      "outputs": [
        {
          "output_type": "execute_result",
          "data": {
            "text/plain": [
              "type        Movie  TV Show\n",
              "year_added                \n",
              "2016.0        253      165\n",
              "2017.0        839      325\n",
              "2018.0       1237      388\n",
              "2019.0       1424      575\n",
              "2020.0       1284      594\n",
              "2021.0        993      505"
            ],
            "text/html": [
              "\n",
              "  <div id=\"df-85d5b889-d922-44cb-864e-561a491e9b38\" class=\"colab-df-container\">\n",
              "    <div>\n",
              "<style scoped>\n",
              "    .dataframe tbody tr th:only-of-type {\n",
              "        vertical-align: middle;\n",
              "    }\n",
              "\n",
              "    .dataframe tbody tr th {\n",
              "        vertical-align: top;\n",
              "    }\n",
              "\n",
              "    .dataframe thead th {\n",
              "        text-align: right;\n",
              "    }\n",
              "</style>\n",
              "<table border=\"1\" class=\"dataframe\">\n",
              "  <thead>\n",
              "    <tr style=\"text-align: right;\">\n",
              "      <th>type</th>\n",
              "      <th>Movie</th>\n",
              "      <th>TV Show</th>\n",
              "    </tr>\n",
              "    <tr>\n",
              "      <th>year_added</th>\n",
              "      <th></th>\n",
              "      <th></th>\n",
              "    </tr>\n",
              "  </thead>\n",
              "  <tbody>\n",
              "    <tr>\n",
              "      <th>2016.0</th>\n",
              "      <td>253</td>\n",
              "      <td>165</td>\n",
              "    </tr>\n",
              "    <tr>\n",
              "      <th>2017.0</th>\n",
              "      <td>839</td>\n",
              "      <td>325</td>\n",
              "    </tr>\n",
              "    <tr>\n",
              "      <th>2018.0</th>\n",
              "      <td>1237</td>\n",
              "      <td>388</td>\n",
              "    </tr>\n",
              "    <tr>\n",
              "      <th>2019.0</th>\n",
              "      <td>1424</td>\n",
              "      <td>575</td>\n",
              "    </tr>\n",
              "    <tr>\n",
              "      <th>2020.0</th>\n",
              "      <td>1284</td>\n",
              "      <td>594</td>\n",
              "    </tr>\n",
              "    <tr>\n",
              "      <th>2021.0</th>\n",
              "      <td>993</td>\n",
              "      <td>505</td>\n",
              "    </tr>\n",
              "  </tbody>\n",
              "</table>\n",
              "</div>\n",
              "    <div class=\"colab-df-buttons\">\n",
              "\n",
              "  <div class=\"colab-df-container\">\n",
              "    <button class=\"colab-df-convert\" onclick=\"convertToInteractive('df-85d5b889-d922-44cb-864e-561a491e9b38')\"\n",
              "            title=\"Convert this dataframe to an interactive table.\"\n",
              "            style=\"display:none;\">\n",
              "\n",
              "  <svg xmlns=\"http://www.w3.org/2000/svg\" height=\"24px\" viewBox=\"0 -960 960 960\">\n",
              "    <path d=\"M120-120v-720h720v720H120Zm60-500h600v-160H180v160Zm220 220h160v-160H400v160Zm0 220h160v-160H400v160ZM180-400h160v-160H180v160Zm440 0h160v-160H620v160ZM180-180h160v-160H180v160Zm440 0h160v-160H620v160Z\"/>\n",
              "  </svg>\n",
              "    </button>\n",
              "\n",
              "  <style>\n",
              "    .colab-df-container {\n",
              "      display:flex;\n",
              "      gap: 12px;\n",
              "    }\n",
              "\n",
              "    .colab-df-convert {\n",
              "      background-color: #E8F0FE;\n",
              "      border: none;\n",
              "      border-radius: 50%;\n",
              "      cursor: pointer;\n",
              "      display: none;\n",
              "      fill: #1967D2;\n",
              "      height: 32px;\n",
              "      padding: 0 0 0 0;\n",
              "      width: 32px;\n",
              "    }\n",
              "\n",
              "    .colab-df-convert:hover {\n",
              "      background-color: #E2EBFA;\n",
              "      box-shadow: 0px 1px 2px rgba(60, 64, 67, 0.3), 0px 1px 3px 1px rgba(60, 64, 67, 0.15);\n",
              "      fill: #174EA6;\n",
              "    }\n",
              "\n",
              "    .colab-df-buttons div {\n",
              "      margin-bottom: 4px;\n",
              "    }\n",
              "\n",
              "    [theme=dark] .colab-df-convert {\n",
              "      background-color: #3B4455;\n",
              "      fill: #D2E3FC;\n",
              "    }\n",
              "\n",
              "    [theme=dark] .colab-df-convert:hover {\n",
              "      background-color: #434B5C;\n",
              "      box-shadow: 0px 1px 3px 1px rgba(0, 0, 0, 0.15);\n",
              "      filter: drop-shadow(0px 1px 2px rgba(0, 0, 0, 0.3));\n",
              "      fill: #FFFFFF;\n",
              "    }\n",
              "  </style>\n",
              "\n",
              "    <script>\n",
              "      const buttonEl =\n",
              "        document.querySelector('#df-85d5b889-d922-44cb-864e-561a491e9b38 button.colab-df-convert');\n",
              "      buttonEl.style.display =\n",
              "        google.colab.kernel.accessAllowed ? 'block' : 'none';\n",
              "\n",
              "      async function convertToInteractive(key) {\n",
              "        const element = document.querySelector('#df-85d5b889-d922-44cb-864e-561a491e9b38');\n",
              "        const dataTable =\n",
              "          await google.colab.kernel.invokeFunction('convertToInteractive',\n",
              "                                                    [key], {});\n",
              "        if (!dataTable) return;\n",
              "\n",
              "        const docLinkHtml = 'Like what you see? Visit the ' +\n",
              "          '<a target=\"_blank\" href=https://colab.research.google.com/notebooks/data_table.ipynb>data table notebook</a>'\n",
              "          + ' to learn more about interactive tables.';\n",
              "        element.innerHTML = '';\n",
              "        dataTable['output_type'] = 'display_data';\n",
              "        await google.colab.output.renderOutput(dataTable, element);\n",
              "        const docLink = document.createElement('div');\n",
              "        docLink.innerHTML = docLinkHtml;\n",
              "        element.appendChild(docLink);\n",
              "      }\n",
              "    </script>\n",
              "  </div>\n",
              "\n",
              "\n",
              "<div id=\"df-de5b4b8b-1112-4e97-9f4f-430ffe601df4\">\n",
              "  <button class=\"colab-df-quickchart\" onclick=\"quickchart('df-de5b4b8b-1112-4e97-9f4f-430ffe601df4')\"\n",
              "            title=\"Suggest charts\"\n",
              "            style=\"display:none;\">\n",
              "\n",
              "<svg xmlns=\"http://www.w3.org/2000/svg\" height=\"24px\"viewBox=\"0 0 24 24\"\n",
              "     width=\"24px\">\n",
              "    <g>\n",
              "        <path d=\"M19 3H5c-1.1 0-2 .9-2 2v14c0 1.1.9 2 2 2h14c1.1 0 2-.9 2-2V5c0-1.1-.9-2-2-2zM9 17H7v-7h2v7zm4 0h-2V7h2v10zm4 0h-2v-4h2v4z\"/>\n",
              "    </g>\n",
              "</svg>\n",
              "  </button>\n",
              "\n",
              "<style>\n",
              "  .colab-df-quickchart {\n",
              "      --bg-color: #E8F0FE;\n",
              "      --fill-color: #1967D2;\n",
              "      --hover-bg-color: #E2EBFA;\n",
              "      --hover-fill-color: #174EA6;\n",
              "      --disabled-fill-color: #AAA;\n",
              "      --disabled-bg-color: #DDD;\n",
              "  }\n",
              "\n",
              "  [theme=dark] .colab-df-quickchart {\n",
              "      --bg-color: #3B4455;\n",
              "      --fill-color: #D2E3FC;\n",
              "      --hover-bg-color: #434B5C;\n",
              "      --hover-fill-color: #FFFFFF;\n",
              "      --disabled-bg-color: #3B4455;\n",
              "      --disabled-fill-color: #666;\n",
              "  }\n",
              "\n",
              "  .colab-df-quickchart {\n",
              "    background-color: var(--bg-color);\n",
              "    border: none;\n",
              "    border-radius: 50%;\n",
              "    cursor: pointer;\n",
              "    display: none;\n",
              "    fill: var(--fill-color);\n",
              "    height: 32px;\n",
              "    padding: 0;\n",
              "    width: 32px;\n",
              "  }\n",
              "\n",
              "  .colab-df-quickchart:hover {\n",
              "    background-color: var(--hover-bg-color);\n",
              "    box-shadow: 0 1px 2px rgba(60, 64, 67, 0.3), 0 1px 3px 1px rgba(60, 64, 67, 0.15);\n",
              "    fill: var(--button-hover-fill-color);\n",
              "  }\n",
              "\n",
              "  .colab-df-quickchart-complete:disabled,\n",
              "  .colab-df-quickchart-complete:disabled:hover {\n",
              "    background-color: var(--disabled-bg-color);\n",
              "    fill: var(--disabled-fill-color);\n",
              "    box-shadow: none;\n",
              "  }\n",
              "\n",
              "  .colab-df-spinner {\n",
              "    border: 2px solid var(--fill-color);\n",
              "    border-color: transparent;\n",
              "    border-bottom-color: var(--fill-color);\n",
              "    animation:\n",
              "      spin 1s steps(1) infinite;\n",
              "  }\n",
              "\n",
              "  @keyframes spin {\n",
              "    0% {\n",
              "      border-color: transparent;\n",
              "      border-bottom-color: var(--fill-color);\n",
              "      border-left-color: var(--fill-color);\n",
              "    }\n",
              "    20% {\n",
              "      border-color: transparent;\n",
              "      border-left-color: var(--fill-color);\n",
              "      border-top-color: var(--fill-color);\n",
              "    }\n",
              "    30% {\n",
              "      border-color: transparent;\n",
              "      border-left-color: var(--fill-color);\n",
              "      border-top-color: var(--fill-color);\n",
              "      border-right-color: var(--fill-color);\n",
              "    }\n",
              "    40% {\n",
              "      border-color: transparent;\n",
              "      border-right-color: var(--fill-color);\n",
              "      border-top-color: var(--fill-color);\n",
              "    }\n",
              "    60% {\n",
              "      border-color: transparent;\n",
              "      border-right-color: var(--fill-color);\n",
              "    }\n",
              "    80% {\n",
              "      border-color: transparent;\n",
              "      border-right-color: var(--fill-color);\n",
              "      border-bottom-color: var(--fill-color);\n",
              "    }\n",
              "    90% {\n",
              "      border-color: transparent;\n",
              "      border-bottom-color: var(--fill-color);\n",
              "    }\n",
              "  }\n",
              "</style>\n",
              "\n",
              "  <script>\n",
              "    async function quickchart(key) {\n",
              "      const quickchartButtonEl =\n",
              "        document.querySelector('#' + key + ' button');\n",
              "      quickchartButtonEl.disabled = true;  // To prevent multiple clicks.\n",
              "      quickchartButtonEl.classList.add('colab-df-spinner');\n",
              "      try {\n",
              "        const charts = await google.colab.kernel.invokeFunction(\n",
              "            'suggestCharts', [key], {});\n",
              "      } catch (error) {\n",
              "        console.error('Error during call to suggestCharts:', error);\n",
              "      }\n",
              "      quickchartButtonEl.classList.remove('colab-df-spinner');\n",
              "      quickchartButtonEl.classList.add('colab-df-quickchart-complete');\n",
              "    }\n",
              "    (() => {\n",
              "      let quickchartButtonEl =\n",
              "        document.querySelector('#df-de5b4b8b-1112-4e97-9f4f-430ffe601df4 button');\n",
              "      quickchartButtonEl.style.display =\n",
              "        google.colab.kernel.accessAllowed ? 'block' : 'none';\n",
              "    })();\n",
              "  </script>\n",
              "</div>\n",
              "\n",
              "  <div id=\"id_0d761f21-8ac8-4cd4-b4ae-f90e70510f4d\">\n",
              "    <style>\n",
              "      .colab-df-generate {\n",
              "        background-color: #E8F0FE;\n",
              "        border: none;\n",
              "        border-radius: 50%;\n",
              "        cursor: pointer;\n",
              "        display: none;\n",
              "        fill: #1967D2;\n",
              "        height: 32px;\n",
              "        padding: 0 0 0 0;\n",
              "        width: 32px;\n",
              "      }\n",
              "\n",
              "      .colab-df-generate:hover {\n",
              "        background-color: #E2EBFA;\n",
              "        box-shadow: 0px 1px 2px rgba(60, 64, 67, 0.3), 0px 1px 3px 1px rgba(60, 64, 67, 0.15);\n",
              "        fill: #174EA6;\n",
              "      }\n",
              "\n",
              "      [theme=dark] .colab-df-generate {\n",
              "        background-color: #3B4455;\n",
              "        fill: #D2E3FC;\n",
              "      }\n",
              "\n",
              "      [theme=dark] .colab-df-generate:hover {\n",
              "        background-color: #434B5C;\n",
              "        box-shadow: 0px 1px 3px 1px rgba(0, 0, 0, 0.15);\n",
              "        filter: drop-shadow(0px 1px 2px rgba(0, 0, 0, 0.3));\n",
              "        fill: #FFFFFF;\n",
              "      }\n",
              "    </style>\n",
              "    <button class=\"colab-df-generate\" onclick=\"generateWithVariable('tv_shows_vs_movies')\"\n",
              "            title=\"Generate code using this dataframe.\"\n",
              "            style=\"display:none;\">\n",
              "\n",
              "  <svg xmlns=\"http://www.w3.org/2000/svg\" height=\"24px\"viewBox=\"0 0 24 24\"\n",
              "       width=\"24px\">\n",
              "    <path d=\"M7,19H8.4L18.45,9,17,7.55,7,17.6ZM5,21V16.75L18.45,3.32a2,2,0,0,1,2.83,0l1.4,1.43a1.91,1.91,0,0,1,.58,1.4,1.91,1.91,0,0,1-.58,1.4L9.25,21ZM18.45,9,17,7.55Zm-12,3A5.31,5.31,0,0,0,4.9,8.1,5.31,5.31,0,0,0,1,6.5,5.31,5.31,0,0,0,4.9,4.9,5.31,5.31,0,0,0,6.5,1,5.31,5.31,0,0,0,8.1,4.9,5.31,5.31,0,0,0,12,6.5,5.46,5.46,0,0,0,6.5,12Z\"/>\n",
              "  </svg>\n",
              "    </button>\n",
              "    <script>\n",
              "      (() => {\n",
              "      const buttonEl =\n",
              "        document.querySelector('#id_0d761f21-8ac8-4cd4-b4ae-f90e70510f4d button.colab-df-generate');\n",
              "      buttonEl.style.display =\n",
              "        google.colab.kernel.accessAllowed ? 'block' : 'none';\n",
              "\n",
              "      buttonEl.onclick = () => {\n",
              "        google.colab.notebook.generateWithVariable('tv_shows_vs_movies');\n",
              "      }\n",
              "      })();\n",
              "    </script>\n",
              "  </div>\n",
              "\n",
              "    </div>\n",
              "  </div>\n"
            ],
            "application/vnd.google.colaboratory.intrinsic+json": {
              "type": "dataframe",
              "variable_name": "tv_shows_vs_movies",
              "summary": "{\n  \"name\": \"tv_shows_vs_movies\",\n  \"rows\": 6,\n  \"fields\": [\n    {\n      \"column\": \"year_added\",\n      \"properties\": {\n        \"dtype\": \"number\",\n        \"std\": 1.8708286933869707,\n        \"min\": 2016.0,\n        \"max\": 2021.0,\n        \"num_unique_values\": 6,\n        \"samples\": [\n          2016.0,\n          2017.0,\n          2021.0\n        ],\n        \"semantic_type\": \"\",\n        \"description\": \"\"\n      }\n    },\n    {\n      \"column\": \"Movie\",\n      \"properties\": {\n        \"dtype\": \"number\",\n        \"std\": 424,\n        \"min\": 253,\n        \"max\": 1424,\n        \"num_unique_values\": 6,\n        \"samples\": [\n          253,\n          839,\n          993\n        ],\n        \"semantic_type\": \"\",\n        \"description\": \"\"\n      }\n    },\n    {\n      \"column\": \"TV Show\",\n      \"properties\": {\n        \"dtype\": \"number\",\n        \"std\": 165,\n        \"min\": 165,\n        \"max\": 594,\n        \"num_unique_values\": 6,\n        \"samples\": [\n          165,\n          325,\n          505\n        ],\n        \"semantic_type\": \"\",\n        \"description\": \"\"\n      }\n    }\n  ]\n}"
            }
          },
          "metadata": {},
          "execution_count": 67
        }
      ]
    },
    {
      "cell_type": "code",
      "source": [
        "tv_shows_vs_movies.plot(kind='bar')\n",
        "plt.show()"
      ],
      "metadata": {
        "colab": {
          "base_uri": "https://localhost:8080/",
          "height": 484
        },
        "id": "QOgqfnFedh3B",
        "outputId": "0eae327f-fc65-4ad2-8008-d43845c02ce6"
      },
      "execution_count": 68,
      "outputs": [
        {
          "output_type": "display_data",
          "data": {
            "text/plain": [
              "<Figure size 640x480 with 1 Axes>"
            ],
            "image/png": "[encoded data removed]"
          },
          "metadata": {}
        }
      ]
    },
    {
      "cell_type": "markdown",
      "source": [
        "##6) Understanding what content is available in different countries"
      ],
      "metadata": {
        "id": "Aks8V5c9jF8y"
      }
    },
    {
      "cell_type": "code",
      "source": [
        " df_clean= df. dropna (subset='country')\n",
        " df_clean['country'] = df['country'].str.split(', ')\n",
        " df_exploded=df_clean.explode('country')\n",
        " content_by_country= df_exploded['country'].value_counts()\n",
        " print('Top 10 Content available by country:')\n",
        " print(content_by_country.head(10))"
      ],
      "metadata": {
        "id": "x5e3q9CdjKkm",
        "outputId": "37df1298-e8e7-4a76-b59b-f03af7fc7634",
        "colab": {
          "base_uri": "https://localhost:8080/"
        }
      },
      "execution_count": 69,
      "outputs": [
        {
          "output_type": "stream",
          "name": "stdout",
          "text": [
            "Top 10 Content available by country:\n",
            "country\n",
            "United States     3689\n",
            "India             1046\n",
            "United Kingdom     804\n",
            "Canada             445\n",
            "France             393\n",
            "Japan              318\n",
            "Spain              232\n",
            "South Korea        231\n",
            "Germany            226\n",
            "Mexico             169\n",
            "Name: count, dtype: int64\n"
          ]
        },
        {
          "output_type": "stream",
          "name": "stderr",
          "text": [
            "<ipython-input-69-7887bae189fb>:2: SettingWithCopyWarning: \n",
            "A value is trying to be set on a copy of a slice from a DataFrame.\n",
            "Try using .loc[row_indexer,col_indexer] = value instead\n",
            "\n",
            "See the caveats in the documentation: https://pandas.pydata.org/pandas-docs/stable/user_guide/indexing.html#returning-a-view-versus-a-copy\n",
            "  df_clean['country'] = df['country'].str.split(', ')\n"
          ]
        }
      ]
    },
    {
      "cell_type": "markdown",
      "source": [
        "##Understanding What Content is Available in Different Countries"
      ],
      "metadata": {
        "id": "tlVeuV6qjQvg"
      }
    },
    {
      "cell_type": "code",
      "source": [
        " df_clean =df. dropna (subset='country')\n",
        " df_clean['country'] = df['country'].str.split(', ')\n",
        " df_exploded=df_clean.explode('country')\n",
        " content_by_country= df_exploded['country'].value_counts()\n",
        " print('Top 10 Content available by country:')\n",
        " print(content_by_country.head(15))"
      ],
      "metadata": {
        "id": "r990nJGRjYb0",
        "outputId": "351c1bc1-00bf-4a7f-daaf-b2ee37012bc1",
        "colab": {
          "base_uri": "https://localhost:8080/"
        }
      },
      "execution_count": 70,
      "outputs": [
        {
          "output_type": "stream",
          "name": "stdout",
          "text": [
            "Top 10 Content available by country:\n",
            "country\n",
            "United States     3689\n",
            "India             1046\n",
            "United Kingdom     804\n",
            "Canada             445\n",
            "France             393\n",
            "Japan              318\n",
            "Spain              232\n",
            "South Korea        231\n",
            "Germany            226\n",
            "Mexico             169\n",
            "China              162\n",
            "Australia          160\n",
            "Egypt              117\n",
            "Turkey             113\n",
            "Hong Kong          105\n",
            "Name: count, dtype: int64\n"
          ]
        },
        {
          "output_type": "stream",
          "name": "stderr",
          "text": [
            "<ipython-input-70-11cbf9ec6f83>:2: SettingWithCopyWarning: \n",
            "A value is trying to be set on a copy of a slice from a DataFrame.\n",
            "Try using .loc[row_indexer,col_indexer] = value instead\n",
            "\n",
            "See the caveats in the documentation: https://pandas.pydata.org/pandas-docs/stable/user_guide/indexing.html#returning-a-view-versus-a-copy\n",
            "  df_clean['country'] = df['country'].str.split(', ')\n"
          ]
        }
      ]
    },
    {
      "cell_type": "markdown",
      "source": [
        "## Analyzing Content Type (Movies vs. TV Shows) by Country"
      ],
      "metadata": {
        "id": "bSwY-VfSjnkU"
      }
    },
    {
      "cell_type": "code",
      "source": [
        " content_type_by_country= df_exploded.groupby(['country', 'type']).size().unstack(fill_value=0)\n",
        " print(\"\\nTop 10 Distribution of content types (Movies vs TV Shows) by country:\")\n",
        " print(content_type_by_country.head(10))"
      ],
      "metadata": {
        "id": "21O1T6Osjt3J",
        "outputId": "3dae5488-9db1-499d-f084-b64efc9c3e4a",
        "colab": {
          "base_uri": "https://localhost:8080/"
        }
      },
      "execution_count": 71,
      "outputs": [
        {
          "output_type": "stream",
          "name": "stdout",
          "text": [
            "\n",
            "Top 10 Distribution of content types (Movies vs TV Shows) by country:\n",
            "type         Movie  TV Show\n",
            "country                    \n",
            "                 1        1\n",
            "Afghanistan      1        0\n",
            "Albania          1        0\n",
            "Algeria          3        0\n",
            "Angola           1        0\n",
            "Argentina       71       20\n",
            "Armenia          1        0\n",
            "Australia       94       66\n",
            "Austria         11        1\n",
            "Azerbaijan       0        1\n"
          ]
        }
      ]
    },
    {
      "cell_type": "code",
      "source": [
        " # Genre Distribution by Country\n",
        " df_exploded['listed_in'] = df_exploded['listed_in'].astype(str)\n",
        " df_genre_exploded = df_exploded.explode('listed_in')\n",
        " genres_by_country= df_genre_exploded.groupby(['country', 'listed_in']).size().unstack(fill_value=0)\n",
        " print(\"\\nTop 10 Genre distribution by country (Top 10):\")\n",
        " print(genres_by_country.head(15))"
      ],
      "metadata": {
        "id": "NTuTokNAjvp9",
        "outputId": "ed8f8370-f783-4476-8aa4-fcec5754b5f5",
        "colab": {
          "base_uri": "https://localhost:8080/"
        }
      },
      "execution_count": 72,
      "outputs": [
        {
          "output_type": "stream",
          "name": "stdout",
          "text": [
            "\n",
            "Top 10 Genre distribution by country (Top 10):\n",
            "listed_in    Action & Adventure  \\\n",
            "country                           \n",
            "                              0   \n",
            "Afghanistan                   0   \n",
            "Albania                       0   \n",
            "Algeria                       0   \n",
            "Angola                        0   \n",
            "Argentina                     0   \n",
            "Armenia                       0   \n",
            "Australia                     1   \n",
            "Austria                       0   \n",
            "Azerbaijan                    0   \n",
            "Bahamas                       1   \n",
            "Bangladesh                    0   \n",
            "Belarus                       0   \n",
            "Belgium                       1   \n",
            "Bermuda                       0   \n",
            "\n",
            "listed_in    Action & Adventure, Anime Features, Children & Family Movies  \\\n",
            "country                                                                     \n",
            "                                                             0              \n",
            "Afghanistan                                                  0              \n",
            "Albania                                                      0              \n",
            "Algeria                                                      0              \n",
            "Angola                                                       0              \n",
            "Argentina                                                    0              \n",
            "Armenia                                                      0              \n",
            "Australia                                                    0              \n",
            "Austria                                                      0              \n",
            "Azerbaijan                                                   0              \n",
            "Bahamas                                                      0              \n",
            "Bangladesh                                                   0              \n",
            "Belarus                                                      0              \n",
            "Belgium                                                      0              \n",
            "Bermuda                                                      0              \n",
            "\n",
            "listed_in    Action & Adventure, Anime Features, Classic Movies  \\\n",
            "country                                                           \n",
            "                                                             0    \n",
            "Afghanistan                                                  0    \n",
            "Albania                                                      0    \n",
            "Algeria                                                      0    \n",
            "Angola                                                       0    \n",
            "Argentina                                                    0    \n",
            "Armenia                                                      0    \n",
            "Australia                                                    0    \n",
            "Austria                                                      0    \n",
            "Azerbaijan                                                   0    \n",
            "Bahamas                                                      0    \n",
            "Bangladesh                                                   0    \n",
            "Belarus                                                      0    \n",
            "Belgium                                                      0    \n",
            "Bermuda                                                      0    \n",
            "\n",
            "listed_in    Action & Adventure, Anime Features, Horror Movies  \\\n",
            "country                                                          \n",
            "                                                             0   \n",
            "Afghanistan                                                  0   \n",
            "Albania                                                      0   \n",
            "Algeria                                                      0   \n",
            "Angola                                                       0   \n",
            "Argentina                                                    0   \n",
            "Armenia                                                      0   \n",
            "Australia                                                    0   \n",
            "Austria                                                      0   \n",
            "Azerbaijan                                                   0   \n",
            "Bahamas                                                      0   \n",
            "Bangladesh                                                   0   \n",
            "Belarus                                                      0   \n",
            "Belgium                                                      0   \n",
            "Bermuda                                                      0   \n",
            "\n",
            "listed_in    Action & Adventure, Anime Features, International Movies  \\\n",
            "country                                                                 \n",
            "                                                             0          \n",
            "Afghanistan                                                  0          \n",
            "Albania                                                      0          \n",
            "Algeria                                                      0          \n",
            "Angola                                                       0          \n",
            "Argentina                                                    0          \n",
            "Armenia                                                      0          \n",
            "Australia                                                    0          \n",
            "Austria                                                      0          \n",
            "Azerbaijan                                                   0          \n",
            "Bahamas                                                      0          \n",
            "Bangladesh                                                   0          \n",
            "Belarus                                                      0          \n",
            "Belgium                                                      0          \n",
            "Bermuda                                                      0          \n",
            "\n",
            "listed_in    Action & Adventure, Anime Features, Sci-Fi & Fantasy  \\\n",
            "country                                                             \n",
            "                                                             0      \n",
            "Afghanistan                                                  0      \n",
            "Albania                                                      0      \n",
            "Algeria                                                      0      \n",
            "Angola                                                       0      \n",
            "Argentina                                                    0      \n",
            "Armenia                                                      0      \n",
            "Australia                                                    0      \n",
            "Austria                                                      0      \n",
            "Azerbaijan                                                   0      \n",
            "Bahamas                                                      0      \n",
            "Bangladesh                                                   0      \n",
            "Belarus                                                      0      \n",
            "Belgium                                                      0      \n",
            "Bermuda                                                      0      \n",
            "\n",
            "listed_in    Action & Adventure, Children & Family Movies  \\\n",
            "country                                                     \n",
            "                                                        0   \n",
            "Afghanistan                                             0   \n",
            "Albania                                                 0   \n",
            "Algeria                                                 0   \n",
            "Angola                                                  0   \n",
            "Argentina                                               0   \n",
            "Armenia                                                 0   \n",
            "Australia                                               0   \n",
            "Austria                                                 0   \n",
            "Azerbaijan                                              0   \n",
            "Bahamas                                                 0   \n",
            "Bangladesh                                              0   \n",
            "Belarus                                                 0   \n",
            "Belgium                                                 0   \n",
            "Bermuda                                                 0   \n",
            "\n",
            "listed_in    Action & Adventure, Children & Family Movies, Classic Movies  \\\n",
            "country                                                                     \n",
            "                                                             0              \n",
            "Afghanistan                                                  0              \n",
            "Albania                                                      0              \n",
            "Algeria                                                      0              \n",
            "Angola                                                       0              \n",
            "Argentina                                                    0              \n",
            "Armenia                                                      0              \n",
            "Australia                                                    0              \n",
            "Austria                                                      0              \n",
            "Azerbaijan                                                   0              \n",
            "Bahamas                                                      0              \n",
            "Bangladesh                                                   0              \n",
            "Belarus                                                      0              \n",
            "Belgium                                                      0              \n",
            "Bermuda                                                      0              \n",
            "\n",
            "listed_in    Action & Adventure, Children & Family Movies, Comedies  \\\n",
            "country                                                               \n",
            "                                                             0        \n",
            "Afghanistan                                                  0        \n",
            "Albania                                                      0        \n",
            "Algeria                                                      0        \n",
            "Angola                                                       0        \n",
            "Argentina                                                    0        \n",
            "Armenia                                                      0        \n",
            "Australia                                                    0        \n",
            "Austria                                                      0        \n",
            "Azerbaijan                                                   0        \n",
            "Bahamas                                                      0        \n",
            "Bangladesh                                                   0        \n",
            "Belarus                                                      0        \n",
            "Belgium                                                      0        \n",
            "Bermuda                                                      0        \n",
            "\n",
            "listed_in    Action & Adventure, Children & Family Movies, Cult Movies  ...  \\\n",
            "country                                                                 ...   \n",
            "                                                             0          ...   \n",
            "Afghanistan                                                  0          ...   \n",
            "Albania                                                      0          ...   \n",
            "Algeria                                                      0          ...   \n",
            "Angola                                                       0          ...   \n",
            "Argentina                                                    0          ...   \n",
            "Armenia                                                      0          ...   \n",
            "Australia                                                    0          ...   \n",
            "Austria                                                      0          ...   \n",
            "Azerbaijan                                                   0          ...   \n",
            "Bahamas                                                      0          ...   \n",
            "Bangladesh                                                   0          ...   \n",
            "Belarus                                                      0          ...   \n",
            "Belgium                                                      0          ...   \n",
            "Bermuda                                                      0          ...   \n",
            "\n",
            "listed_in    TV Dramas, TV Sci-Fi & Fantasy, Teen TV Shows  \\\n",
            "country                                                      \n",
            "                                                         0   \n",
            "Afghanistan                                              0   \n",
            "Albania                                                  0   \n",
            "Algeria                                                  0   \n",
            "Angola                                                   0   \n",
            "Argentina                                                0   \n",
            "Armenia                                                  0   \n",
            "Australia                                                0   \n",
            "Austria                                                  0   \n",
            "Azerbaijan                                               0   \n",
            "Bahamas                                                  0   \n",
            "Bangladesh                                               0   \n",
            "Belarus                                                  0   \n",
            "Belgium                                                  0   \n",
            "Bermuda                                                  0   \n",
            "\n",
            "listed_in    TV Dramas, TV Thrillers  TV Dramas, Teen TV Shows  \\\n",
            "country                                                          \n",
            "                                   0                         0   \n",
            "Afghanistan                        0                         0   \n",
            "Albania                            0                         0   \n",
            "Algeria                            0                         0   \n",
            "Angola                             0                         0   \n",
            "Argentina                          0                         0   \n",
            "Armenia                            0                         0   \n",
            "Australia                          0                         0   \n",
            "Austria                            0                         0   \n",
            "Azerbaijan                         0                         0   \n",
            "Bahamas                            0                         0   \n",
            "Bangladesh                         0                         0   \n",
            "Belarus                            0                         0   \n",
            "Belgium                            0                         0   \n",
            "Bermuda                            0                         0   \n",
            "\n",
            "listed_in    TV Horror, TV Mysteries, TV Sci-Fi & Fantasy  \\\n",
            "country                                                     \n",
            "                                                        0   \n",
            "Afghanistan                                             0   \n",
            "Albania                                                 0   \n",
            "Algeria                                                 0   \n",
            "Angola                                                  0   \n",
            "Argentina                                               0   \n",
            "Armenia                                                 0   \n",
            "Australia                                               0   \n",
            "Austria                                                 0   \n",
            "Azerbaijan                                              0   \n",
            "Bahamas                                                 0   \n",
            "Bangladesh                                              0   \n",
            "Belarus                                                 0   \n",
            "Belgium                                                 0   \n",
            "Bermuda                                                 0   \n",
            "\n",
            "listed_in    TV Horror, TV Mysteries, TV Thrillers  \\\n",
            "country                                              \n",
            "                                                 0   \n",
            "Afghanistan                                      0   \n",
            "Albania                                          0   \n",
            "Algeria                                          0   \n",
            "Angola                                           0   \n",
            "Argentina                                        0   \n",
            "Armenia                                          0   \n",
            "Australia                                        0   \n",
            "Austria                                          0   \n",
            "Azerbaijan                                       0   \n",
            "Bahamas                                          0   \n",
            "Bangladesh                                       0   \n",
            "Belarus                                          0   \n",
            "Belgium                                          0   \n",
            "Bermuda                                          0   \n",
            "\n",
            "listed_in    TV Horror, TV Mysteries, Teen TV Shows  TV Horror, Teen TV Shows  \\\n",
            "country                                                                         \n",
            "                                                  0                         0   \n",
            "Afghanistan                                       0                         0   \n",
            "Albania                                           0                         0   \n",
            "Algeria                                           0                         0   \n",
            "Angola                                            0                         0   \n",
            "Argentina                                         0                         0   \n",
            "Armenia                                           0                         0   \n",
            "Australia                                         0                         0   \n",
            "Austria                                           0                         0   \n",
            "Azerbaijan                                        0                         0   \n",
            "Bahamas                                           0                         0   \n",
            "Bangladesh                                        0                         0   \n",
            "Belarus                                           0                         0   \n",
            "Belgium                                           0                         0   \n",
            "Bermuda                                           0                         0   \n",
            "\n",
            "listed_in    TV Sci-Fi & Fantasy, TV Thrillers  TV Shows  Thrillers  \n",
            "country                                                              \n",
            "                                             0         0          0  \n",
            "Afghanistan                                  0         0          0  \n",
            "Albania                                      0         0          0  \n",
            "Algeria                                      0         0          0  \n",
            "Angola                                       0         0          0  \n",
            "Argentina                                    0         0          0  \n",
            "Armenia                                      0         0          0  \n",
            "Australia                                    0         0          2  \n",
            "Austria                                      0         0          0  \n",
            "Azerbaijan                                   0         0          0  \n",
            "Bahamas                                      0         0          0  \n",
            "Bangladesh                                   0         0          0  \n",
            "Belarus                                      0         0          0  \n",
            "Belgium                                      0         0          0  \n",
            "Bermuda                                      0         0          0  \n",
            "\n",
            "[15 rows x 498 columns]\n"
          ]
        }
      ]
    },
    {
      "cell_type": "markdown",
      "source": [
        "## Top Content in Each Country"
      ],
      "metadata": {
        "id": "l1kDtixpj5E3"
      }
    },
    {
      "cell_type": "code",
      "source": [
        " top_content_by_country = df_exploded.groupby([\"country\",\"title\"]).size().sort_values(ascending=False)\n",
        " print(\"\\nTop Content in Each Country:\")\n",
        " print(top_content_by_country)"
      ],
      "metadata": {
        "id": "JSYMd0Rgj74k",
        "outputId": "2af932f1-14c1-4414-f36d-ac841c5025fa",
        "colab": {
          "base_uri": "https://localhost:8080/"
        }
      },
      "execution_count": 73,
      "outputs": [
        {
          "output_type": "stream",
          "name": "stdout",
          "text": [
            "\n",
            "Top Content in Each Country:\n",
            "country      title                           \n",
            "Zimbabwe     Trophy                              1\n",
            "             D.P.                                1\n",
            "             Eyes of a Thief                     1\n",
            "Afghanistan  The Land of the Enlightened         1\n",
            "Albania      Forgive Us Our Debts                1\n",
            "                                                ..\n",
            "Argentina    Black Snow                          1\n",
            "             Apache: The Life of Carlos Tevez    1\n",
            "             Almost Happy                        1\n",
            "             Alelí                               1\n",
            "             Al acecho                           1\n",
            "Length: 10014, dtype: int64\n"
          ]
        }
      ]
    },
    {
      "cell_type": "markdown",
      "source": [
        "## Defining Problem Statement and Analysing basic metric"
      ],
      "metadata": {
        "id": "DkJ7lt2DkDIh"
      }
    },
    {
      "cell_type": "code",
      "source": [
        "df.info()"
      ],
      "metadata": {
        "id": "HSg8r6CpkJ_p",
        "outputId": "c6859c9c-b6bc-4475-f265-55f8a503f870",
        "colab": {
          "base_uri": "https://localhost:8080/"
        }
      },
      "execution_count": 74,
      "outputs": [
        {
          "output_type": "stream",
          "name": "stdout",
          "text": [
            "<class 'pandas.core.frame.DataFrame'>\n",
            "RangeIndex: 8807 entries, 0 to 8806\n",
            "Data columns (total 14 columns):\n",
            " #   Column        Non-Null Count  Dtype         \n",
            "---  ------        --------------  -----         \n",
            " 0   show_id       8807 non-null   object        \n",
            " 1   type          8807 non-null   object        \n",
            " 2   title         8807 non-null   object        \n",
            " 3   director      6173 non-null   object        \n",
            " 4   cast          7982 non-null   object        \n",
            " 5   country       7976 non-null   object        \n",
            " 6   date_added    8797 non-null   object        \n",
            " 7   release_year  8807 non-null   int64         \n",
            " 8   rating        8803 non-null   object        \n",
            " 9   duration      8804 non-null   object        \n",
            " 10  listed_in     8807 non-null   object        \n",
            " 11  description   8807 non-null   object        \n",
            " 12  df_added      8709 non-null   datetime64[ns]\n",
            " 13  year_added    8709 non-null   float64       \n",
            "dtypes: datetime64[ns](1), float64(1), int64(1), object(11)\n",
            "memory usage: 963.4+ KB\n"
          ]
        }
      ]
    },
    {
      "cell_type": "markdown",
      "source": [
        "##Non - Graphical Analysis : Value Counts and Unique Attribute"
      ],
      "metadata": {
        "id": "GO58_EGWkRPJ"
      }
    },
    {
      "cell_type": "code",
      "source": [
        " genres = df[\"listed_in\"].str.split(\",\").explode()\n",
        " genre_count = genres.value_counts()\n",
        " print(\"\\nTop 20 Most Common Genres\")\n",
        " print(genre_count.head(15))"
      ],
      "metadata": {
        "id": "ORv_PQHrkVEN",
        "outputId": "0b592eb0-6abe-41c6-d5b7-cc68413670fe",
        "colab": {
          "base_uri": "https://localhost:8080/"
        }
      },
      "execution_count": 75,
      "outputs": [
        {
          "output_type": "stream",
          "name": "stdout",
          "text": [
            "\n",
            "Top 20 Most Common Genres\n",
            "listed_in\n",
            " International Movies       2624\n",
            "Dramas                      1600\n",
            "Comedies                    1210\n",
            "Action & Adventure           859\n",
            "Documentaries                829\n",
            " Dramas                      827\n",
            "International TV Shows       774\n",
            " Independent Movies          736\n",
            " TV Dramas                   696\n",
            " Romantic Movies             613\n",
            "Children & Family Movies     605\n",
            " International TV Shows      577\n",
            " Thrillers                   512\n",
            " Comedies                    464\n",
            " TV Comedies                 461\n",
            "Name: count, dtype: int64\n"
          ]
        }
      ]
    },
    {
      "cell_type": "markdown",
      "source": [
        "##Histplot (Distribution of Release Year)"
      ],
      "metadata": {
        "id": "Nb-2Pss0k5NB"
      }
    },
    {
      "cell_type": "code",
      "source": [
        " plt.figure(figsize=(10,5),)\n",
        " sns.histplot(df[\"release_year\"],kde=True,bins=20,color=\"purple\")\n",
        " plt.title(\"Distribution of Release Year\",fontsize=15)\n",
        " plt.xlabel(\"Release Year\")\n",
        " plt.xlim(1900,2023)\n",
        " plt.ylabel(\"Frequency\")\n",
        " plt.show()"
      ],
      "metadata": {
        "id": "joyqIWuuk-NJ",
        "outputId": "cff8ea03-d78a-48b1-f7b8-d0406ea0c08e",
        "colab": {
          "base_uri": "https://localhost:8080/",
          "height": 489
        }
      },
      "execution_count": 76,
      "outputs": [
        {
          "output_type": "display_data",
          "data": {
            "text/plain": [
              "<Figure size 1000x500 with 1 Axes>"
            ],
            "image/png": "[encoded data removed]"
          },
          "metadata": {}
        }
      ]
    },
    {
      "cell_type": "markdown",
      "source": [
        "##Countplot (Number of Movies Vs Tv Shows)"
      ],
      "metadata": {
        "id": "C1etDYU3lGyf"
      }
    },
    {
      "cell_type": "code",
      "source": [
        " plt.figure(figsize=(10,6))\n",
        " sns.countplot(x='type',data=df,color =\"Purple\")\n",
        " plt.title('Number of Movies Vs Tv Shows',fontsize=15)\n",
        " plt.xlabel('Type')\n",
        " plt.ylabel('Count of Tv shows & Movies')"
      ],
      "metadata": {
        "id": "Wl5YkJ6PlK1h",
        "outputId": "30aebf84-712b-4754-e055-f9089f737653",
        "colab": {
          "base_uri": "https://localhost:8080/",
          "height": 583
        }
      },
      "execution_count": 77,
      "outputs": [
        {
          "output_type": "execute_result",
          "data": {
            "text/plain": [
              "Text(0, 0.5, 'Count of Tv shows & Movies')"
            ]
          },
          "metadata": {},
          "execution_count": 77
        },
        {
          "output_type": "display_data",
          "data": {
            "text/plain": [
              "<Figure size 1000x600 with 1 Axes>"
            ],
            "image/png": "[encoded data removed]"
          },
          "metadata": {}
        }
      ]
    },
    {
      "cell_type": "markdown",
      "source": [
        " ### Business Insights"
      ],
      "metadata": {
        "id": "fhkHvaSilQZM"
      }
    },
    {
      "cell_type": "markdown",
      "source": [
        " 1. Release Year Trends and Content Focus The goal of Net ix's strategy is to appeal to modern viewers by offering more relevant and recent\n",
        " material. The increase in TV series is indicative of the platform's move toward serialized content, which keeps users engaged over time\n",
        " and helps retain subscriptions.\n",
        " 2. Genre Preferences and Market Strategy While international movies are more popular in specialized markets, Net ix's content mix of\n",
        " dramas and foreign lms appeals to a wide range of viewers worldwide. Net ix is able to effectively target both local and worldwide\n",
        " markets.\n",
        " 3. Country-Level Content Strategy Net ix is leveraging strong content production hubs like the USA and India to dominate global streaming\n",
        " markets.\n",
        " 4. Release Time Strategy When there is a spike in viewership, such as around the holidays or during school breaks, Net ix carefully adds\n",
        " fresh content. This is consistent with the habits of subscribers who are more likely to binge-watch during vacations or long weekends.\n",
        " 5. Opportunities in Content Ratings and Audience Engagement Net ix's engagement strategy for adult customers is re ected in its\n",
        " concentration on mature audiences in TV series. A more wellrounded content strategy, though, might boost family involvement"
      ],
      "metadata": {
        "id": "tJ0u0xSeleVO"
      }
    },
    {
      "cell_type": "markdown",
      "source": [
        "### Recommendations"
      ],
      "metadata": {
        "id": "WOJXz25rlomz"
      }
    },
    {
      "cell_type": "markdown",
      "source": [
        " 1. Expand Focus on TV Shows Net ix should keep creating more original series since there is a rising market for television programming."
      ],
      "metadata": {
        "id": "l9S1RUmEltYU"
      }
    }
  ],
  "metadata": {
    "colab": {
      "name": "Welcome To Colab",
      "provenance": [],
      "include_colab_link": true
    },
    "kernelspec": {
      "display_name": "Python 3",
      "name": "python3"
    }
  },
  "nbformat": 4,
  "nbformat_minor": 0
}